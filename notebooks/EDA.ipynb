{
 "cells": [
  {
   "cell_type": "markdown",
   "metadata": {},
   "source": [
    "# Import Libraries"
   ]
  },
  {
   "cell_type": "code",
   "execution_count": 291,
   "metadata": {},
   "outputs": [],
   "source": [
    "import pandas as pd\n",
    "import numpy as np\n",
    "import matplotlib.pyplot as plt\n",
    "import seaborn as sns\n",
    "import os, cv2, json\n",
    "import opendatasets as od\n",
    "import zipfile\n",
    "\n",
    "# ignoring warnings\n",
    "import warnings\n",
    "warnings.simplefilter(\"ignore\")"
   ]
  },
  {
   "cell_type": "markdown",
   "metadata": {},
   "source": [
    "### Downloads a source and unzip the zipped folder to a location on local drive "
   ]
  },
  {
   "cell_type": "code",
   "execution_count": 3,
   "metadata": {},
   "outputs": [
    {
     "name": "stdout",
     "output_type": "stream",
     "text": [
      "Please provide your Kaggle credentials to download this dataset. Learn more: http://bit.ly/kaggle-creds\n",
      "Your Kaggle username:Your Kaggle Key:Downloading cassava-leaf-disease-classification.zip to ./cassava-leaf-disease-classification\n"
     ]
    },
    {
     "name": "stderr",
     "output_type": "stream",
     "text": [
      "100%|██████████| 5.76G/5.76G [14:42<00:00, 7.01MB/s] \n"
     ]
    },
    {
     "name": "stdout",
     "output_type": "stream",
     "text": [
      "\n",
      "Extracting archive ./cassava-leaf-disease-classification/cassava-leaf-disease-classification.zip to ./cassava-leaf-disease-classification\n"
     ]
    }
   ],
   "source": [
    "od.download(\"https://www.kaggle.com/c/cassava-leaf-disease-classification/data?select=train.csv\")"
   ]
  },
  {
   "cell_type": "markdown",
   "metadata": {},
   "source": [
    "Sometimes data is stored in a zip folder in side a zip folder. In this case we use the `od.download()` method to download a folder and unzip the zipped folder but the folder inside the zipped folder should be latter on unzipped with `zipfile.ZipFile(<origin>, 'r') and alias.extractall(<destination>)`"
   ]
  },
  {
   "cell_type": "code",
   "execution_count": 5,
   "metadata": {},
   "outputs": [
    {
     "name": "stdout",
     "output_type": "stream",
     "text": [
      "Please provide your Kaggle credentials to download this dataset. Learn more: http://bit.ly/kaggle-creds\n",
      "Your Kaggle username:Your Kaggle Key:Downloading cassava-disease.zip to ./cassava-disease\n"
     ]
    },
    {
     "name": "stderr",
     "output_type": "stream",
     "text": [
      "100%|██████████| 2.30G/2.30G [05:33<00:00, 7.42MB/s]\n"
     ]
    },
    {
     "name": "stdout",
     "output_type": "stream",
     "text": [
      "\n",
      "Extracting archive ./cassava-disease/cassava-disease.zip to ./cassava-disease\n"
     ]
    }
   ],
   "source": [
    "od.download('https://www.kaggle.com/c/cassava-disease/data')"
   ]
  },
  {
   "cell_type": "markdown",
   "metadata": {},
   "source": [
    "### Unzip zipped file which is already downloaded from a source"
   ]
  },
  {
   "cell_type": "code",
   "execution_count": 3,
   "metadata": {},
   "outputs": [],
   "source": [
    "\n",
    "with zipfile.ZipFile(\"/Users/paulosgidyelew/Desktop/cassava-classification-capstone/notebooks/cassava-disease/train.zip\", 'r') as zip_file:\n",
    "    zip_file.extractall(\"../data\")"
   ]
  },
  {
   "cell_type": "code",
   "execution_count": 292,
   "metadata": {},
   "outputs": [],
   "source": [
    "file_path = '../data/'"
   ]
  },
  {
   "cell_type": "code",
   "execution_count": 293,
   "metadata": {},
   "outputs": [
    {
     "data": {
      "text/plain": [
       "['cgm', 'cmd', 'healthy', 'cbb', 'cbsd']"
      ]
     },
     "execution_count": 293,
     "metadata": {},
     "output_type": "execute_result"
    }
   ],
   "source": [
    "pwd = file_path+'train'\n",
    "os.listdir(pwd)"
   ]
  },
  {
   "cell_type": "code",
   "execution_count": 294,
   "metadata": {},
   "outputs": [],
   "source": [
    "cbb = os.path.join(file_path+'train/cbb')\n",
    "cbsd = os.path.join(file_path+'train/cbsd')\n",
    "cgm = os.path.join(file_path+'train/cgm')\n",
    "cmd = os.path.join(file_path+'train/cmd')\n",
    "healthy = os.path.join(file_path+'train/healthy')"
   ]
  },
  {
   "cell_type": "code",
   "execution_count": 295,
   "metadata": {},
   "outputs": [],
   "source": [
    "train_json = {key:value for key,value in zip(['cbb',\n",
    "                                            'cbsd',\n",
    "                                            'cgm',\n",
    "                                            'cmd',\n",
    "                                            'healthy'],\n",
    "                                            [os.listdir(cbb),\n",
    "                                            os.listdir(cbsd),\n",
    "                                            os.listdir(cgm),\n",
    "                                            os.listdir(cmd),\n",
    "                                            os.listdir(healthy)])}\n",
    "data1 = pd.DataFrame(train_json['cbb'],columns=['image'])\n",
    "data2 = pd.DataFrame(train_json['cbsd'],columns=['image'])\n",
    "data3 = pd.DataFrame(train_json['cgm'],columns=['image'])\n",
    "data4 = pd.DataFrame(train_json['cmd'],columns=['image'])\n",
    "data5 = pd.DataFrame(train_json['healthy'],columns=['image'])"
   ]
  },
  {
   "cell_type": "code",
   "execution_count": 296,
   "metadata": {},
   "outputs": [],
   "source": [
    "data1['label'] = 0\n",
    "data2['label'] = 1\n",
    "data3['label'] = 2\n",
    "data4['label'] = 3\n",
    "data5['label'] = 4"
   ]
  },
  {
   "cell_type": "code",
   "execution_count": 297,
   "metadata": {},
   "outputs": [
    {
     "data": {
      "text/html": [
       "<div>\n",
       "<style scoped>\n",
       "    .dataframe tbody tr th:only-of-type {\n",
       "        vertical-align: middle;\n",
       "    }\n",
       "\n",
       "    .dataframe tbody tr th {\n",
       "        vertical-align: top;\n",
       "    }\n",
       "\n",
       "    .dataframe thead th {\n",
       "        text-align: right;\n",
       "    }\n",
       "</style>\n",
       "<table border=\"1\" class=\"dataframe\">\n",
       "  <thead>\n",
       "    <tr style=\"text-align: right;\">\n",
       "      <th></th>\n",
       "      <th>image</th>\n",
       "      <th>label</th>\n",
       "    </tr>\n",
       "  </thead>\n",
       "  <tbody>\n",
       "    <tr>\n",
       "      <th>634</th>\n",
       "      <td>train-cmd-2535.jpg</td>\n",
       "      <td>3</td>\n",
       "    </tr>\n",
       "    <tr>\n",
       "      <th>1151</th>\n",
       "      <td>train-cmd-560.jpg</td>\n",
       "      <td>3</td>\n",
       "    </tr>\n",
       "    <tr>\n",
       "      <th>1281</th>\n",
       "      <td>train-cmd-1922.jpg</td>\n",
       "      <td>3</td>\n",
       "    </tr>\n",
       "    <tr>\n",
       "      <th>19</th>\n",
       "      <td>train-cbb-371.jpg</td>\n",
       "      <td>0</td>\n",
       "    </tr>\n",
       "    <tr>\n",
       "      <th>1075</th>\n",
       "      <td>train-cmd-1666.jpg</td>\n",
       "      <td>3</td>\n",
       "    </tr>\n",
       "  </tbody>\n",
       "</table>\n",
       "</div>"
      ],
      "text/plain": [
       "                   image  label\n",
       "634   train-cmd-2535.jpg      3\n",
       "1151   train-cmd-560.jpg      3\n",
       "1281  train-cmd-1922.jpg      3\n",
       "19     train-cbb-371.jpg      0\n",
       "1075  train-cmd-1666.jpg      3"
      ]
     },
     "execution_count": 297,
     "metadata": {},
     "output_type": "execute_result"
    }
   ],
   "source": [
    "data = pd.concat([data1,data2,data3,data4,data5])\n",
    "data.sample(5)"
   ]
  },
  {
   "cell_type": "code",
   "execution_count": 298,
   "metadata": {},
   "outputs": [],
   "source": [
    "labels_dict = {\n",
    "                0:'CBB',\n",
    "                1:'CBSD',\n",
    "                2:'CGM',\n",
    "                3:'CMD',\n",
    "                4:'Healthy'\n",
    "                }"
   ]
  },
  {
   "cell_type": "code",
   "execution_count": 299,
   "metadata": {},
   "outputs": [],
   "source": [
    "json.dump(labels_dict, open(file_path+'label_dict.json', 'w'))"
   ]
  },
  {
   "cell_type": "code",
   "execution_count": 300,
   "metadata": {},
   "outputs": [],
   "source": [
    "with open(file_path+'label_dict.json') as file:\n",
    "    str_labels = json.load(file)\n",
    "    str_labels = {int(k):v for k,v in str_labels.items()}\n",
    "data['label_name'] = data.label.map(str_labels)"
   ]
  },
  {
   "cell_type": "code",
   "execution_count": 301,
   "metadata": {},
   "outputs": [
    {
     "data": {
      "text/html": [
       "<div>\n",
       "<style scoped>\n",
       "    .dataframe tbody tr th:only-of-type {\n",
       "        vertical-align: middle;\n",
       "    }\n",
       "\n",
       "    .dataframe tbody tr th {\n",
       "        vertical-align: top;\n",
       "    }\n",
       "\n",
       "    .dataframe thead th {\n",
       "        text-align: right;\n",
       "    }\n",
       "</style>\n",
       "<table border=\"1\" class=\"dataframe\">\n",
       "  <thead>\n",
       "    <tr style=\"text-align: right;\">\n",
       "      <th></th>\n",
       "      <th>image</th>\n",
       "      <th>label</th>\n",
       "      <th>label_name</th>\n",
       "    </tr>\n",
       "  </thead>\n",
       "  <tbody>\n",
       "    <tr>\n",
       "      <th>0</th>\n",
       "      <td>train-cbb-166.jpg</td>\n",
       "      <td>0</td>\n",
       "      <td>CBB</td>\n",
       "    </tr>\n",
       "    <tr>\n",
       "      <th>1</th>\n",
       "      <td>train-cbb-172.jpg</td>\n",
       "      <td>0</td>\n",
       "      <td>CBB</td>\n",
       "    </tr>\n",
       "    <tr>\n",
       "      <th>2</th>\n",
       "      <td>train-cbb-199.jpg</td>\n",
       "      <td>0</td>\n",
       "      <td>CBB</td>\n",
       "    </tr>\n",
       "    <tr>\n",
       "      <th>3</th>\n",
       "      <td>train-cbb-358.jpg</td>\n",
       "      <td>0</td>\n",
       "      <td>CBB</td>\n",
       "    </tr>\n",
       "    <tr>\n",
       "      <th>4</th>\n",
       "      <td>train-cbb-364.jpg</td>\n",
       "      <td>0</td>\n",
       "      <td>CBB</td>\n",
       "    </tr>\n",
       "  </tbody>\n",
       "</table>\n",
       "</div>"
      ],
      "text/plain": [
       "               image  label label_name\n",
       "0  train-cbb-166.jpg      0        CBB\n",
       "1  train-cbb-172.jpg      0        CBB\n",
       "2  train-cbb-199.jpg      0        CBB\n",
       "3  train-cbb-358.jpg      0        CBB\n",
       "4  train-cbb-364.jpg      0        CBB"
      ]
     },
     "execution_count": 301,
     "metadata": {},
     "output_type": "execute_result"
    }
   ],
   "source": [
    "data.head()"
   ]
  },
  {
   "cell_type": "code",
   "execution_count": 302,
   "metadata": {},
   "outputs": [
    {
     "data": {
      "text/plain": [
       "(5656, 3)"
      ]
     },
     "execution_count": 302,
     "metadata": {},
     "output_type": "execute_result"
    }
   ],
   "source": [
    "data.shape"
   ]
  },
  {
   "cell_type": "code",
   "execution_count": 310,
   "metadata": {},
   "outputs": [],
   "source": [
    "data.to_csv(file_path+'train.csv',index=False)"
   ]
  },
  {
   "cell_type": "code",
   "execution_count": 304,
   "metadata": {},
   "outputs": [],
   "source": [
    "data.label_name = data.label_name.astype(str).astype('category')"
   ]
  },
  {
   "cell_type": "code",
   "execution_count": 305,
   "metadata": {},
   "outputs": [
    {
     "name": "stdout",
     "output_type": "stream",
     "text": [
      "<class 'pandas.core.frame.DataFrame'>\n",
      "Int64Index: 5656 entries, 0 to 315\n",
      "Data columns (total 3 columns):\n",
      " #   Column      Non-Null Count  Dtype   \n",
      "---  ------      --------------  -----   \n",
      " 0   image       5656 non-null   object  \n",
      " 1   label       5656 non-null   int64   \n",
      " 2   label_name  5656 non-null   category\n",
      "dtypes: category(1), int64(1), object(1)\n",
      "memory usage: 138.3+ KB\n"
     ]
    }
   ],
   "source": [
    "data.info()"
   ]
  },
  {
   "cell_type": "markdown",
   "metadata": {},
   "source": [
    "### The different classes of the cassava leaf images"
   ]
  },
  {
   "cell_type": "code",
   "execution_count": 306,
   "metadata": {},
   "outputs": [
    {
     "data": {
      "text/plain": [
       "['CBB', 'CBSD', 'CGM', 'CMD', 'Healthy']\n",
       "Categories (5, object): ['CBB', 'CBSD', 'CGM', 'CMD', 'Healthy']"
      ]
     },
     "execution_count": 306,
     "metadata": {},
     "output_type": "execute_result"
    }
   ],
   "source": [
    "data.label_name.unique()"
   ]
  },
  {
   "cell_type": "markdown",
   "metadata": {},
   "source": [
    "##### The following plot shows data distribution of the classes. As we can see the dataset is imbalanced with CMD being the majority class."
   ]
  },
  {
   "cell_type": "code",
   "execution_count": 307,
   "metadata": {},
   "outputs": [
    {
     "data": {
      "image/png": "[encoded data removed]",
      "text/plain": [
       "<Figure size 432x288 with 1 Axes>"
      ]
     },
     "metadata": {
      "needs_background": "light"
     },
     "output_type": "display_data"
    }
   ],
   "source": [
    "sns.countplot(data = data, x=data.label_name)\n",
    "plt.xlabel('Leaf Category')\n",
    "plt.ylabel('Count')\n",
    "plt.show()\n"
   ]
  },
  {
   "cell_type": "markdown",
   "metadata": {},
   "source": [
    "##### Data distribution among the four classes in a data frame   "
   ]
  },
  {
   "cell_type": "code",
   "execution_count": 308,
   "metadata": {},
   "outputs": [
    {
     "data": {
      "text/html": [
       "<div>\n",
       "<style scoped>\n",
       "    .dataframe tbody tr th:only-of-type {\n",
       "        vertical-align: middle;\n",
       "    }\n",
       "\n",
       "    .dataframe tbody tr th {\n",
       "        vertical-align: top;\n",
       "    }\n",
       "\n",
       "    .dataframe thead th {\n",
       "        text-align: right;\n",
       "    }\n",
       "</style>\n",
       "<table border=\"1\" class=\"dataframe\">\n",
       "  <thead>\n",
       "    <tr style=\"text-align: right;\">\n",
       "      <th></th>\n",
       "      <th>cbb</th>\n",
       "      <th>cbsd</th>\n",
       "      <th>cgm</th>\n",
       "      <th>cmd</th>\n",
       "      <th>healthy</th>\n",
       "      <th>total</th>\n",
       "    </tr>\n",
       "  </thead>\n",
       "  <tbody>\n",
       "    <tr>\n",
       "      <th>Count</th>\n",
       "      <td>466</td>\n",
       "      <td>1443</td>\n",
       "      <td>773</td>\n",
       "      <td>2658</td>\n",
       "      <td>316</td>\n",
       "      <td>5656</td>\n",
       "    </tr>\n",
       "  </tbody>\n",
       "</table>\n",
       "</div>"
      ],
      "text/plain": [
       "       cbb  cbsd  cgm   cmd  healthy  total\n",
       "Count  466  1443  773  2658      316   5656"
      ]
     },
     "execution_count": 308,
     "metadata": {},
     "output_type": "execute_result"
    }
   ],
   "source": [
    "data_len = [i for i in [len(os.listdir(cbb)),\n",
    "                        len(os.listdir(cbsd)),\n",
    "                        len(os.listdir(cgm)),\n",
    "                        len(os.listdir(cmd)),\n",
    "                        len(os.listdir(healthy))]]\n",
    "dict = {key: value for key, value in zip(['cbb','cbsd','cgm','cmd','healthy'],data_len)}\n",
    "data_info =pd.DataFrame(dict,index=['Count'])\n",
    "total = pd.DataFrame({'total':len(data)},index=['Count'])\n",
    "total.columns = ['total']\n",
    "data_info=pd.concat([data_info,total],axis=1)\n",
    "data_info\n"
   ]
  },
  {
   "cell_type": "markdown",
   "metadata": {},
   "source": [
    "##### Save data frame as csv file in local drive for reuse"
   ]
  },
  {
   "cell_type": "code",
   "execution_count": 312,
   "metadata": {},
   "outputs": [],
   "source": [
    "data_info.to_csv(file_path+'data_info.csv',index=False)"
   ]
  },
  {
   "cell_type": "markdown",
   "metadata": {},
   "source": [
    "##### Creating a data frame of pixel values of the image data for further analysis"
   ]
  },
  {
   "cell_type": "code",
   "execution_count": 22,
   "metadata": {},
   "outputs": [],
   "source": [
    "path = '../data/train/'"
   ]
  },
  {
   "cell_type": "code",
   "execution_count": 23,
   "metadata": {},
   "outputs": [],
   "source": [
    "sample = data[data.label_name == 'CMD']\n",
    "pxls,labels = [],[]\n",
    "for idx, (img_id, label) in enumerate(zip(sample.image, sample.label)):\n",
    "    image = cv2.imread(os.path.join(path, \"cmd\", img_id))\n",
    "    image = cv2.cvtColor(image, cv2.COLOR_BGR2RGB)\n",
    "    pxls.append(image.shape)\n",
    "    labels.append(img_id)"
   ]
  },
  {
   "cell_type": "code",
   "execution_count": 24,
   "metadata": {},
   "outputs": [
    {
     "data": {
      "text/html": [
       "<div>\n",
       "<style scoped>\n",
       "    .dataframe tbody tr th:only-of-type {\n",
       "        vertical-align: middle;\n",
       "    }\n",
       "\n",
       "    .dataframe tbody tr th {\n",
       "        vertical-align: top;\n",
       "    }\n",
       "\n",
       "    .dataframe thead th {\n",
       "        text-align: right;\n",
       "    }\n",
       "</style>\n",
       "<table border=\"1\" class=\"dataframe\">\n",
       "  <thead>\n",
       "    <tr style=\"text-align: right;\">\n",
       "      <th></th>\n",
       "      <th>cmd_img</th>\n",
       "      <th>dpi</th>\n",
       "    </tr>\n",
       "  </thead>\n",
       "  <tbody>\n",
       "    <tr>\n",
       "      <th>0</th>\n",
       "      <td>train-cmd-1992.jpg</td>\n",
       "      <td>(500, 500, 3)</td>\n",
       "    </tr>\n",
       "    <tr>\n",
       "      <th>1</th>\n",
       "      <td>train-cmd-2243.jpg</td>\n",
       "      <td>(500, 666, 3)</td>\n",
       "    </tr>\n",
       "    <tr>\n",
       "      <th>2</th>\n",
       "      <td>train-cmd-2525.jpg</td>\n",
       "      <td>(500, 500, 3)</td>\n",
       "    </tr>\n",
       "    <tr>\n",
       "      <th>3</th>\n",
       "      <td>train-cmd-1038.jpg</td>\n",
       "      <td>(666, 500, 3)</td>\n",
       "    </tr>\n",
       "    <tr>\n",
       "      <th>4</th>\n",
       "      <td>train-cmd-2531.jpg</td>\n",
       "      <td>(500, 594, 3)</td>\n",
       "    </tr>\n",
       "  </tbody>\n",
       "</table>\n",
       "</div>"
      ],
      "text/plain": [
       "              cmd_img            dpi\n",
       "0  train-cmd-1992.jpg  (500, 500, 3)\n",
       "1  train-cmd-2243.jpg  (500, 666, 3)\n",
       "2  train-cmd-2525.jpg  (500, 500, 3)\n",
       "3  train-cmd-1038.jpg  (666, 500, 3)\n",
       "4  train-cmd-2531.jpg  (500, 594, 3)"
      ]
     },
     "execution_count": 24,
     "metadata": {},
     "output_type": "execute_result"
    }
   ],
   "source": [
    "pxl = {label: pxl for label, pxl in  zip(labels,pxls)} \n",
    "pxl_frame = pd.DataFrame({'cmd_img':labels,'dpi':pxls}) \n",
    "pxl_frame.head()"
   ]
  },
  {
   "cell_type": "code",
   "execution_count": 25,
   "metadata": {},
   "outputs": [
    {
     "name": "stdout",
     "output_type": "stream",
     "text": [
      "<class 'pandas.core.frame.DataFrame'>\n",
      "RangeIndex: 2658 entries, 0 to 2657\n",
      "Data columns (total 2 columns):\n",
      " #   Column   Non-Null Count  Dtype \n",
      "---  ------   --------------  ----- \n",
      " 0   cmd_img  2658 non-null   object\n",
      " 1   dpi      2658 non-null   object\n",
      "dtypes: object(2)\n",
      "memory usage: 41.7+ KB\n"
     ]
    }
   ],
   "source": [
    "pxl_frame.info()"
   ]
  },
  {
   "cell_type": "markdown",
   "metadata": {},
   "source": [
    "# Pixel size of each image in the dataset"
   ]
  },
  {
   "cell_type": "code",
   "execution_count": 31,
   "metadata": {},
   "outputs": [
    {
     "data": {
      "image/png": "[encoded data removed]",
      "text/plain": [
       "<Figure size 576x360 with 1 Axes>"
      ]
     },
     "metadata": {
      "needs_background": "light"
     },
     "output_type": "display_data"
    }
   ],
   "source": [
    "fig = plt.figure(figsize=(8,5))\n",
    "x = [x[0] for x in pxl_frame.dpi]\n",
    "y = [x[1] for x in pxl_frame.dpi]\n",
    "plt.plot(x,y,'r+')\n",
    "plt.xlabel('pix')\n",
    "plt.ylabel('pix')\n",
    "plt.title('CMD Leaf')\n",
    "plt.show()"
   ]
  },
  {
   "cell_type": "markdown",
   "metadata": {},
   "source": [
    "##### Random Images of class CMD for visual analysis"
   ]
  },
  {
   "cell_type": "code",
   "execution_count": null,
   "metadata": {},
   "outputs": [],
   "source": [
    "sample = data[data.label_name == 'CMD'].sample(9)\n",
    "fig, ax = plt.subplots(int(np.ceil(len(sample)/3)),3,figsize=[15, 20])\n",
    "ax = ax.ravel()\n",
    "for idx, img_id in enumerate(sample.image):\n",
    "    image = cv2.imread(os.path.join(path, \"cmd\", img_id))\n",
    "    image = cv2.cvtColor(image, cv2.COLOR_BGR2RGB)\n",
    "    image = cv2.resize(image,dsize=(300,300))\n",
    "    ax[idx].set_title(img_id.split('-')[1])\n",
    "    ax[idx].imshow(image)\n",
    "    ax[idx].axis('off')\n",
    "plt.tight_layout()\n",
    "plt.show()"
   ]
  },
  {
   "cell_type": "markdown",
   "metadata": {},
   "source": [
    "# Color spaces in Image Processing\n",
    "\n",
    "<p style='text-align: justify'>In images processing algorithms one can use various colour spaces based on the better fits to the purpose of the application. These color spaces include RGB, VHS, LAB, HSI and Y'CbCr colour spaces.<br>Colors can provide relevant information in image processing applications like classification of cassava leaves as healthy or unhealthy to identify important edges or other features. For instance, if there is an edge (a step change in pixel value) in hue that is hard to detect in a gray-scale image, or if we need to identify objects of known hue (yellowish or orange color of sick plant leaf and green leaves of healthy cassava plant), color information is useful. If we don't need color, then we can consider it as noise and we can go for the single channel gray-scale image in our algorithm.Thus, in our image classification algorithm, we are going to use RGB color space,however, processing multi channel images comes with its costs:</p>\n",
    "\n",
    "<ol>\n",
    "\n",
    "<li>Computational Speed: \n",
    "\n",
    "<p style='text-align: justify'>With parallel computing capabilities of modern computers, it's possible to perform simple pixel-by-pixel processing of a megapixel image in milliseconds. However, whatever processing time is required to manipulate the image or pool some useful data from it, cost still will be higher compared to one channel (gray-scale) image processing. If we make the rule-of-thumb assumption, processing a three-channel color image, such that in the RGB color space, it takes three times or maybe longer as long as processing a gray-scale image, since we may create a separate luminance channel (luma is a mix of about 60% green, 30% red and 10% blue).</p></li>\n",
    "\n",
    "<li>Difficulty to Visualize:\n",
    "\n",
    "<p style='text-align: justify'>In RGB, HSI, Lab, and other color spaces visualization is much harder since there are additional dimensions that the standard human brain can't comprehend.</p></li>\n",
    "\n",
    "<li>Complexity in modeling:\n",
    "\n",
    "<p style='text-align: justify'>Finding edges and features based on luminance and chrominance will add complexity to the image processing model (luminance represents the brightness in an image, while the chrominance represent the color information). In multi-channel images processing, detail perception is obtained from the luminance component of each pixel almost exclusively, because the human vision system is not well suited to detect structures defined by varying chrominance values.</p></li>\n",
    "\n",
    "</ol>"
   ]
  },
  {
   "cell_type": "code",
   "execution_count": null,
   "metadata": {},
   "outputs": [],
   "source": [
    "sample = data[data.label_name == 'CMD'].sample(9)\n",
    "plt.figure(figsize=(10, 8))\n",
    "pixel_values =[]\n",
    "for idx, (img_id, label) in enumerate(zip(sample.image, sample.label_name)):\n",
    "    image = cv2.imread(os.path.join(path, \"cmd\", img_id))\n",
    "    image = cv2.cvtColor(image, cv2.COLOR_BGR2RGB)\n",
    "    image = cv2.resize(image,dsize=(300,300))\n",
    "    pixel_values.append(image[:,:,0][0])\n",
    "    plt.subplot(2,2,1)\n",
    "    plt.imshow(image)\n",
    "    plt.title(label+' -'+' '+'color: RGB')\n",
    "    plt.axis('off')\n",
    "    plt.subplot(2,2,2)\n",
    "    plt.imshow(image[:,:,0], cmap='Reds')\n",
    "    plt.title(label+' -'+' '+'color: Red')\n",
    "    plt.axis('off')\n",
    "    plt.subplot(2,2,3)\n",
    "    plt.imshow(image[:,:,1], cmap='Greens')\n",
    "    plt.title(label+' -'+' '+'color: Green')\n",
    "    plt.axis('off')\n",
    "    plt.subplot(2,2,4)\n",
    "    plt.imshow(image[:,:,2], cmap='Blues')\n",
    "    plt.title(label+' -'+' '+'color: Blue')\n",
    "    plt.axis('off')\n",
    "plt.tight_layout()\n",
    "plt.show()"
   ]
  },
  {
   "cell_type": "markdown",
   "metadata": {},
   "source": [
    "><p style='text-align: justify; color: blue'>The following pixel values are only one axis (300 pixels out of 90,000 pixels) of the red channel of the image and the values are between 0 and 255 where 0 is for absolutely <b>black</b> and 255 for absolutely <b>white</b>. In other words, the smaller the closer the number to 0 the darker the shade while the closer the number to 255 the lighter or the whiter the shade. The red channel of the image contains about 300x300 pixels alone for the three channels will be a multiple of 3 of that figure.</p>\n",
    "\n",
    "In summary:\n",
    "\n",
    "+ Images are stored in the form of a matrix or tensor, where these numerical values in these matrix are known as ixel  values.\n",
    "+ These pixel values represent the intensity of each pixel.\n",
    "+ Zero represents black and 255 represents white.\n",
    "+ The matrix is known as the channel and in the case of a gray-scale image, we have only one channel and in RGB we have three channels.\n",
    "+ In single channel we need only one byte or `8 bits unsigned integers` of storage for each pixel and for three channels we need 3bytes for each pixel."
   ]
  },
  {
   "cell_type": "code",
   "execution_count": 223,
   "metadata": {},
   "outputs": [
    {
     "data": {
      "text/plain": [
       "array([185, 235, 207, 218, 214, 229, 217, 163, 184, 188, 167, 210, 208,\n",
       "       201, 179, 207, 109, 127, 156, 139, 157, 185, 205, 113, 155, 146,\n",
       "       161, 184, 179, 194, 242, 196, 196, 191, 191, 137,  95, 182, 128,\n",
       "       100,  68,  65, 128, 100,  92,  80,  73,  65,  60,  53,  49,  45,\n",
       "        42,  44,  54,  49,  52,  49,  44,  43,  45,  45,  44,  41,  50,\n",
       "        59,  64,  65,  58,  55,  61,  82, 119, 144, 103,  75,  92, 159,\n",
       "       185, 188, 184, 170, 133,  71,  39,  34,  28,  27,  25,  23,  27,\n",
       "        30,  31,  33,  34,  38,  47,  55,  55,  52,  48,  47,  47,  49,\n",
       "        52,  50,  61,  64,  63,  52,  36,  27,  23,  20,  19,  20,  22,\n",
       "        25,  26,  25,  25,  25,  31,  36,  51,  53,  40,  43,  46,  48,\n",
       "        52,  53,  59,  54,  34,  31,  31,  39,  39,  37,  32,  48,  53,\n",
       "        43,  40,  41,  37,  32,  33,  35,  37,  35,  35,  34,  39,  41,\n",
       "        45,  43,  37,  37,  33,  31,  28,  30,  31,  32,  33,  33,  38,\n",
       "        37,  31,  28,  23,  21,  21,  25,  27,  27,  28,  29,  26,  25,\n",
       "        23,  22,  23,  23,  24,  29,  29,  24,  24,  24,  26,  24,  23,\n",
       "        23,  24,  23,  25,  30,  37,  44,  46,  47,  54,  48,  54,  91,\n",
       "       119, 112, 135, 162, 163, 150, 147, 171, 182, 181, 176, 178, 181,\n",
       "       176, 169, 174, 190, 202, 207, 206, 197, 186, 177, 183, 183, 176,\n",
       "       165, 154, 143, 109,  81,  79,  57,  49,  48,  66,  89,  75,  67,\n",
       "        79, 112, 160, 155,  71,  57,  57,  54,  45,  63, 153, 205, 207,\n",
       "       153,  97,  97,  94,  99, 117, 123, 118, 121, 126, 138, 151, 156,\n",
       "       143, 110,  94,  89,  88,  83,  82,  89,  91, 108, 122, 132, 123,\n",
       "       107, 107, 110, 123, 124,  98,  76,  54,  40,  49,  91,  51,  41,\n",
       "        40], dtype=uint8)"
      ]
     },
     "execution_count": 223,
     "metadata": {},
     "output_type": "execute_result"
    }
   ],
   "source": [
    "pixel_values[0]"
   ]
  },
  {
   "cell_type": "markdown",
   "metadata": {},
   "source": [
    "# Color Maps\n",
    "\n",
    "<table>\n",
    "    <tr>\n",
    "        <th>color map</th>\n",
    "        <th>description</th>\n",
    "    </tr>\n",
    "    <tr>\n",
    "        <td>hsv</td>\n",
    "        <td>cyclic red-yellow-green-cyan-blue-magenta-red, formed by changing the hue component in the HSV color space</td>  \n",
    "    </tr>\n",
    "    <tr>\n",
    "        <td>bwr</td>\t\n",
    "        <td>diverging blue-white-red</td>\n",
    "    </tr>\n",
    "    <tr>\n",
    "        <td>gray\t</td>\t\n",
    "        <td>sequential linearly-increasing black-to-white gray-scale</td>\n",
    "    </tr>\n",
    "</table>\n",
    "\n",
    "Source: [Kite](https://www.kite.com/python/docs/matplotlib.pyplot.colormaps)"
   ]
  },
  {
   "cell_type": "code",
   "execution_count": null,
   "metadata": {},
   "outputs": [],
   "source": [
    "sample = data[data.label_name == 'CMD'].sample(9)\n",
    "plt.figure(figsize=(10, 8))\n",
    "\n",
    "for idx, (img_id, label) in enumerate(zip(sample.image, sample.label_name)):\n",
    "  \n",
    "    image = cv2.imread(os.path.join(path, \"cmd\", img_id))\n",
    "    image=cv2.cvtColor(image,cv2.COLOR_BGR2LAB)\n",
    "    plt.subplot(2,2,1)\n",
    "    plt.imshow(image)\n",
    "    plt.title(label+'-'+' '+'color: LAB')\n",
    "    plt.axis('off')\n",
    "    plt.subplot(2,2,2)\n",
    "    plt.imshow(image[:,:,0], cmap='gray')\n",
    "    plt.title(label+'-'+' '+'color: gray')\n",
    "    plt.axis('off')\n",
    "    plt.subplot(2,2,3)\n",
    "    plt.imshow(image[:,:,1], cmap='hsv')\n",
    "    plt.title(label+'-'+' '+'color: hsv')\n",
    "    plt.axis('off')\n",
    "    plt.subplot(2,2,4)\n",
    "    plt.imshow(image[:,:,2], cmap='bwr')\n",
    "    plt.title(label+'-'+' '+'color: bwr')\n",
    "    plt.axis('off')\n",
    "plt.tight_layout()\n",
    "plt.show()"
   ]
  },
  {
   "cell_type": "markdown",
   "metadata": {},
   "source": [
    "# Laplacian Transformation:\n",
    "\n",
    "Our dataset contains partly poor quality images. We need to find a solution to filter out these images from our dataset, since they will negatively impact the accuracy of our model. The laplace transform function is used to resolve this problem. In the following we will try to explain how this function would be applied and how it works.\n",
    "\n",
    "Laplace filtering method used to identify and highlight fine edges based on the 2nd derivative.\n",
    "\n",
    "`OpenCV.Laplacian(gray_img, ksize, scale)` returns filtered image\n",
    "\n",
    "Parameters:\n",
    "\n",
    "gray_img - Grayscale image data\n",
    "ksize - apertures size used to calculate 2nd derivative filter, specifies the size of the kernel (must be an odd integer: 1,3,5...)\n",
    "scale - scaling factor applied (multiplied) to computed Laplacian values (scale = 1 is unscaled)\n",
    "\n",
    "Context:\n",
    "\n",
    "It is used to define edges around objects. The function calculates the Laplacian of the source image by adding up the second x and y derivatives calculated using the Sobel operator:\n",
    "\n",
    "$Laplace(f) = \\dfrac{\\partial^{2} f}{\\partial x^{2}} + \\dfrac{\\partial^{2} f}{\\partial y^{2}}$\n",
    "\n",
    "When ksize = 1, the Laplacian is computed by filtering the image with the following 3×3 aperture:\n",
    "\n",
    "$\\begin{bmatrix}\n",
    "0 & 1 & 0\\\\\n",
    "1 & -4 & 1\\\\\n",
    "0 & 1 & 0 \n",
    "\\end{bmatrix}$\n",
    "\n",
    "\n",
    "<p style=\"text-align: justify\">Function described in this section is used to perform linear or non-linear filtering operations on 2D images. It means that for each pixel location (x, y) in the source image (normally, rectangular), its neighborhood is considered and used to compute the response. In case of a linear filter, it is a weighted sum of pixel values. In case of morphological operations, it is the minimum or maximum values, and so on. The computed response is stored in the destination image at the same location (x, y). It means that the output image will be of the same size as the input image. Normally, the functions support multi-channel arrays, in which case every channel is processed independently. Therefore, the output image will also have the same number of channels as the input one.</p>\n",
    "\n",
    "Depth combinations:\n",
    "\n",
    "|Input depth (src.depth())\t|Output depth (ddepth)|\n",
    "|---|---|\n",
    "|CV_8U\t|-1/CV_16S/CV_32F/CV_64F|\n",
    "|CV_16U/CV_16S\t|-1/CV_32F/CV_64F|\n",
    "|CV_32F\t|-1/CV_32F/CV_64F|\n",
    "|CV_64F\t|-1/CV_64F|\n",
    "\n",
    "<p style=\"text-align: justify\">OpenCV BGR or Gray_scale images have pixel values from 0 to 255 when in CV_8U - corresponds to np.uint8. When we use the Laplacian transform with ddepth (desired depth of the destination image), we set it to OpenCV.CV_32F or OpenCV.CV_64F.</p> \n",
    "\n",
    "For more details [click here](https://docs.opencv.org/4.1.0/d4/d86/group__imgproc__filter.html#filter_depths)"
   ]
  },
  {
   "cell_type": "code",
   "execution_count": 36,
   "metadata": {},
   "outputs": [],
   "source": [
    "import glob\n",
    "\n",
    "def laplacian(threshold, path):\n",
    "    bad_img,lap_val = [],[]\n",
    "    for img in glob.glob(path):\n",
    "        image = cv2.imread(img)\n",
    "        img_gry = cv2.cvtColor(image, cv2.IMREAD_GRAYSCALE)\n",
    "        lap_var = cv2.Laplacian(img_gry,cv2.CV_32F,ksize=1).var()\n",
    "        if lap_var < threshold:\n",
    "            bad_img.append(img)\n",
    "            lap_val.append(lap_var)\n",
    "    bad_img_dict = {img:val for img,val in zip(bad_img,lap_val)}\n",
    "    return bad_img_dict\n",
    "\n",
    "bad_img_dict = laplacian(75, \"../data/cassava-disease/train/cbb/*.jpg\")"
   ]
  },
  {
   "cell_type": "code",
   "execution_count": 37,
   "metadata": {},
   "outputs": [
    {
     "data": {
      "text/html": [
       "<div>\n",
       "<style scoped>\n",
       "    .dataframe tbody tr th:only-of-type {\n",
       "        vertical-align: middle;\n",
       "    }\n",
       "\n",
       "    .dataframe tbody tr th {\n",
       "        vertical-align: top;\n",
       "    }\n",
       "\n",
       "    .dataframe thead th {\n",
       "        text-align: right;\n",
       "    }\n",
       "</style>\n",
       "<table border=\"1\" class=\"dataframe\">\n",
       "  <thead>\n",
       "    <tr style=\"text-align: right;\">\n",
       "      <th></th>\n",
       "      <th>image_id</th>\n",
       "      <th>laplacian_var</th>\n",
       "    </tr>\n",
       "  </thead>\n",
       "  <tbody>\n",
       "    <tr>\n",
       "      <th>0</th>\n",
       "      <td>train-cbb-365.jpg</td>\n",
       "      <td>27.239807</td>\n",
       "    </tr>\n",
       "    <tr>\n",
       "      <th>1</th>\n",
       "      <td>train-cbb-167.jpg</td>\n",
       "      <td>65.157829</td>\n",
       "    </tr>\n",
       "    <tr>\n",
       "      <th>2</th>\n",
       "      <td>train-cbb-399.jpg</td>\n",
       "      <td>54.976665</td>\n",
       "    </tr>\n",
       "    <tr>\n",
       "      <th>3</th>\n",
       "      <td>train-cbb-311.jpg</td>\n",
       "      <td>33.626156</td>\n",
       "    </tr>\n",
       "    <tr>\n",
       "      <th>4</th>\n",
       "      <td>train-cbb-263.jpg</td>\n",
       "      <td>51.409893</td>\n",
       "    </tr>\n",
       "  </tbody>\n",
       "</table>\n",
       "</div>"
      ],
      "text/plain": [
       "            image_id  laplacian_var\n",
       "0  train-cbb-365.jpg      27.239807\n",
       "1  train-cbb-167.jpg      65.157829\n",
       "2  train-cbb-399.jpg      54.976665\n",
       "3  train-cbb-311.jpg      33.626156\n",
       "4  train-cbb-263.jpg      51.409893"
      ]
     },
     "execution_count": 37,
     "metadata": {},
     "output_type": "execute_result"
    }
   ],
   "source": [
    "bad_img_lap = [i.split('/')[5] for i in bad_img_dict.keys()]\n",
    "lap_val = bad_img_dict.values()\n",
    "bad_img_S = pd.Series(bad_img_lap)\n",
    "lap_var_S = pd.Series(lap_val)\n",
    "\n",
    "bad_img_frm = pd.concat([bad_img_S,lap_var_S],axis=1)\n",
    "bad_img_frm.columns = ['image_id','laplacian_var']\n",
    "bad_img_frm.head()"
   ]
  },
  {
   "cell_type": "code",
   "execution_count": null,
   "metadata": {},
   "outputs": [],
   "source": [
    "# plot blurry images of class \"cbb\"\n",
    "\n",
    "def laplacian_plot(rows=4,cols=4):\n",
    "    fig, ax = plt.subplots(int(np.ceil(len(bad_img_dict.keys())/cols)),rows,figsize=[15, 20])\n",
    "    ax = ax.ravel()\n",
    "    for idx, img in enumerate(bad_img_dict.keys()):\n",
    "        image = cv2.imread(img)\n",
    "        image = cv2.resize(image,dsize=(250,250))\n",
    "        ax[idx].set_title(img.split('/')[5])\n",
    "        ax[idx].axis('off')\n",
    "        ax[idx].imshow(image)\n",
    "        plt.tight_layout()\n",
    "    plt.show()\n",
    "    return\n",
    "laplacian_plot()"
   ]
  },
  {
   "cell_type": "markdown",
   "metadata": {},
   "source": [
    "# 3D Visualization of RGB Image\n",
    "\n",
    " In RGB, HSI, Lab, and other color spaces, visualization is difficult since there are additional dimensions that the standard human brain can't comprehend. The following 3D map shows how the tensor of a 3 channel image look like. The x, y and z axes represent pixel values in their respective axes between 0 and 255 as 8 bit unsigned integers."
   ]
  },
  {
   "cell_type": "code",
   "execution_count": null,
   "metadata": {},
   "outputs": [],
   "source": [
    "image = cv2.imread(os.path.join(path,bad_img_frm.image_id[0].split('-')[1]+'/'+bad_img_frm.image_id[0]))\n",
    "image = cv2.cvtColor(image,cv2.COLOR_BGR2RGB)\n",
    "image = cv2.resize(image,dsize=(300,300))\n",
    "\n",
    "fig = plt.figure(figsize=(25,20))\n",
    "\n",
    "# First subplot\n",
    "ax = fig.add_subplot(2, 1, 1, projection='3d')\n",
    "ax.set_title('3D color space of an image in RGB scale',fontsize=16)\n",
    "y = range( image.shape[0] )\n",
    "x = range( image.shape[1] ) \n",
    "X, Y = np.meshgrid(x, y)\n",
    "ax.plot_surface(X, Y, image[:,:,2])\n",
    "\n",
    "# Second subplot\n",
    "ax = fig.add_subplot(2, 3, 3)\n",
    "ax.set_title('Image in  RGB color space', fontsize=16)\n",
    "ax.imshow(image)\n",
    "ax.axis('off')\n",
    "plt.show()"
   ]
  }
 ],
 "metadata": {
  "interpreter": {
   "hash": "420d7ed6979cd352c66806428606ddfc9cefeeb84853fbc86647921a84d6eb24"
  },
  "kernelspec": {
   "display_name": "Python 3.9.4 64-bit ('.venv': venv)",
   "language": "python",
   "name": "python3"
  },
  "language_info": {
   "codemirror_mode": {
    "name": "ipython",
    "version": 3
   },
   "file_extension": ".py",
   "mimetype": "text/x-python",
   "name": "python",
   "nbconvert_exporter": "python",
   "pygments_lexer": "ipython3",
   "version": "3.9.4"
  },
  "orig_nbformat": 4
 },
 "nbformat": 4,
 "nbformat_minor": 2
}
