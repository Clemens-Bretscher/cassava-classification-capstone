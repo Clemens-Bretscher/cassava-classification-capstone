{
 "cells": [
  {
   "cell_type": "markdown",
   "metadata": {},
   "source": [
    "# Stakeholder\n",
    "\n",
    "The following tables and graphs show historical data of cassava crop in Uganda such as the supply demand balance and the trends in the cassava per capita consumption as a basis for food security along with the population growth and its industrial use as a cash crop. [For More Reading](https://www.fao.org/3/a0154e/A0154E10.htm)"
   ]
  },
  {
   "cell_type": "code",
   "execution_count": 1,
   "metadata": {},
   "outputs": [
    {
     "name": "stderr",
     "output_type": "stream",
     "text": [
      "/Users/paulosgidyelew/Desktop/Capstone_Project/.venv/lib/python3.9/site-packages/pandas/compat/__init__.py:97: UserWarning: Could not import the lzma module. Your installed Python is incomplete. Attempting to use lzma compression will result in a RuntimeError.\n",
      "  warnings.warn(msg)\n"
     ]
    }
   ],
   "source": [
    "# Importing the necessary libraries\n",
    "\n",
    "import pandas as pd\n",
    "import matplotlib.pyplot as plt\n",
    "import seaborn as sns\n",
    "\n",
    "path = '/Users/paulosgidyelew/Desktop/Capstone_Project/data/soup/'"
   ]
  },
  {
   "cell_type": "code",
   "execution_count": 2,
   "metadata": {},
   "outputs": [
    {
     "data": {
      "text/html": [
       "<div>\n",
       "<style scoped>\n",
       "    .dataframe tbody tr th:only-of-type {\n",
       "        vertical-align: middle;\n",
       "    }\n",
       "\n",
       "    .dataframe tbody tr th {\n",
       "        vertical-align: top;\n",
       "    }\n",
       "\n",
       "    .dataframe thead th {\n",
       "        text-align: right;\n",
       "    }\n",
       "</style>\n",
       "<table border=\"1\" class=\"dataframe\">\n",
       "  <thead>\n",
       "    <tr style=\"text-align: right;\">\n",
       "      <th></th>\n",
       "      <th>Year</th>\n",
       "      <th>Cassava supply</th>\n",
       "      <th>Cassava demand</th>\n",
       "      <th>Surplus</th>\n",
       "    </tr>\n",
       "  </thead>\n",
       "  <tbody>\n",
       "    <tr>\n",
       "      <th>0</th>\n",
       "      <td>1995</td>\n",
       "      <td>2137.0</td>\n",
       "      <td>2185.0</td>\n",
       "      <td>-49.0</td>\n",
       "    </tr>\n",
       "    <tr>\n",
       "      <th>1</th>\n",
       "      <td>1996</td>\n",
       "      <td>2210.0</td>\n",
       "      <td>2269.0</td>\n",
       "      <td>-61.0</td>\n",
       "    </tr>\n",
       "    <tr>\n",
       "      <th>2</th>\n",
       "      <td>1997</td>\n",
       "      <td>2381.0</td>\n",
       "      <td>2358.0</td>\n",
       "      <td>22.0</td>\n",
       "    </tr>\n",
       "    <tr>\n",
       "      <th>3</th>\n",
       "      <td>1998</td>\n",
       "      <td>2567.0</td>\n",
       "      <td>2449.0</td>\n",
       "      <td>117.0</td>\n",
       "    </tr>\n",
       "    <tr>\n",
       "      <th>4</th>\n",
       "      <td>1999</td>\n",
       "      <td>2768.0</td>\n",
       "      <td>2545.0</td>\n",
       "      <td>222.0</td>\n",
       "    </tr>\n",
       "  </tbody>\n",
       "</table>\n",
       "</div>"
      ],
      "text/plain": [
       "   Year  Cassava supply  Cassava demand  Surplus\n",
       "0  1995          2137.0          2185.0    -49.0\n",
       "1  1996          2210.0          2269.0    -61.0\n",
       "2  1997          2381.0          2358.0     22.0\n",
       "3  1998          2567.0          2449.0    117.0\n",
       "4  1999          2768.0          2545.0    222.0"
      ]
     },
     "execution_count": 2,
     "metadata": {},
     "output_type": "execute_result"
    }
   ],
   "source": [
    "# Loading csv file, converting to pandas dataframe and displaying the first five observations\n",
    " \n",
    "df1 = pd.read_csv(path+'soup_2.csv')\n",
    "df1.head()"
   ]
  },
  {
   "cell_type": "code",
   "execution_count": 3,
   "metadata": {},
   "outputs": [
    {
     "data": {
      "image/png": "[encoded data removed]",
      "text/plain": [
       "<Figure size 720x288 with 2 Axes>"
      ]
     },
     "metadata": {
      "needs_background": "light"
     },
     "output_type": "display_data"
    }
   ],
   "source": [
    "# Ploting the yearly cassava demand and supply\n",
    "#  \n",
    "fig, ax = plt.subplots(1,2, figsize=(10,4))\n",
    "ax[0] =sns.scatterplot(data=df1,y=df1['Cassava demand'],x=df1['Year'],color='r',ax=ax[0])\n",
    "ax[1] = sns.scatterplot(data=df1,y=df1['Cassava supply'],x=df1['Year'],color='b',ax=ax[1])\n",
    "ax[0].set_ylabel('Cassava demand (million tonnes)')\n",
    "ax[1].set_ylabel('Cassava supply (million tonnes)')\n",
    "plt.show()"
   ]
  },
  {
   "cell_type": "markdown",
   "metadata": {},
   "source": [
    "Between the year 1995 and 2000 the demand and supply for cassava crop was increasing linearly."
   ]
  },
  {
   "cell_type": "code",
   "execution_count": 4,
   "metadata": {},
   "outputs": [
    {
     "data": {
      "text/html": [
       "<div>\n",
       "<style scoped>\n",
       "    .dataframe tbody tr th:only-of-type {\n",
       "        vertical-align: middle;\n",
       "    }\n",
       "\n",
       "    .dataframe tbody tr th {\n",
       "        vertical-align: top;\n",
       "    }\n",
       "\n",
       "    .dataframe thead th {\n",
       "        text-align: right;\n",
       "    }\n",
       "</style>\n",
       "<table border=\"1\" class=\"dataframe\">\n",
       "  <thead>\n",
       "    <tr style=\"text-align: right;\">\n",
       "      <th></th>\n",
       "      <th>Year</th>\n",
       "      <th>Population (millions)</th>\n",
       "      <th>Human consumption (million tonnes)</th>\n",
       "      <th>Industry use (tonnes)</th>\n",
       "      <th>Total demand (million tonnes)</th>\n",
       "      <th>Per capita consumption (kg per head)</th>\n",
       "    </tr>\n",
       "  </thead>\n",
       "  <tbody>\n",
       "    <tr>\n",
       "      <th>10</th>\n",
       "      <td>1990</td>\n",
       "      <td>6.60</td>\n",
       "      <td>2.07</td>\n",
       "      <td>140.0</td>\n",
       "      <td>2.07</td>\n",
       "      <td>125.0</td>\n",
       "    </tr>\n",
       "    <tr>\n",
       "      <th>11</th>\n",
       "      <td>1991</td>\n",
       "      <td>6.67</td>\n",
       "      <td>2.08</td>\n",
       "      <td>194.0</td>\n",
       "      <td>2.08</td>\n",
       "      <td>125.0</td>\n",
       "    </tr>\n",
       "    <tr>\n",
       "      <th>12</th>\n",
       "      <td>1992</td>\n",
       "      <td>17.52</td>\n",
       "      <td>2.19</td>\n",
       "      <td>171.0</td>\n",
       "      <td>2.19</td>\n",
       "      <td>125.0</td>\n",
       "    </tr>\n",
       "    <tr>\n",
       "      <th>13</th>\n",
       "      <td>1993</td>\n",
       "      <td>18.00</td>\n",
       "      <td>2.25</td>\n",
       "      <td>157.0</td>\n",
       "      <td>2.25</td>\n",
       "      <td>125.0</td>\n",
       "    </tr>\n",
       "    <tr>\n",
       "      <th>14</th>\n",
       "      <td>1994</td>\n",
       "      <td>18.49</td>\n",
       "      <td>2.31</td>\n",
       "      <td>195.0</td>\n",
       "      <td>2.31</td>\n",
       "      <td>125.0</td>\n",
       "    </tr>\n",
       "  </tbody>\n",
       "</table>\n",
       "</div>"
      ],
      "text/plain": [
       "    Year  Population (millions)  Human consumption (million tonnes)  \\\n",
       "10  1990                   6.60                                2.07   \n",
       "11  1991                   6.67                                2.08   \n",
       "12  1992                  17.52                                2.19   \n",
       "13  1993                  18.00                                2.25   \n",
       "14  1994                  18.49                                2.31   \n",
       "\n",
       "    Industry use (tonnes)  Total demand (million tonnes)  \\\n",
       "10                  140.0                           2.07   \n",
       "11                  194.0                           2.08   \n",
       "12                  171.0                           2.19   \n",
       "13                  157.0                           2.25   \n",
       "14                  195.0                           2.31   \n",
       "\n",
       "    Per capita consumption (kg per head)  \n",
       "10                                 125.0  \n",
       "11                                 125.0  \n",
       "12                                 125.0  \n",
       "13                                 125.0  \n",
       "14                                 125.0  "
      ]
     },
     "execution_count": 4,
     "metadata": {},
     "output_type": "execute_result"
    }
   ],
   "source": [
    "# Loading csv file, converting to pandas dataframe and displaying the first five observations\n",
    "\n",
    "df2 = pd.read_csv(path+'soup_3.csv')\n",
    "df2.tail()"
   ]
  },
  {
   "cell_type": "code",
   "execution_count": 6,
   "metadata": {},
   "outputs": [
    {
     "data": {
      "image/png": "[encoded data removed]",
      "text/plain": [
       "<Figure size 720x288 with 2 Axes>"
      ]
     },
     "metadata": {
      "needs_background": "light"
     },
     "output_type": "display_data"
    }
   ],
   "source": [
    "# Ploting cassava total demand and industrial use in million tonnes \n",
    "\n",
    "fig, ax = plt.subplots(1,2, figsize=(10,4))\n",
    "ax[0] =sns.pointplot(data=df2, x=df2['Year'], y=df2['Total demand (million tonnes)'], color='r', ax=ax[0])\n",
    "ax[1]=sns.pointplot(data=df2,y=df2['Industry use (tonnes)'][:6],x=df2['Year'],color='y',ax=ax[1],markers='D')\n",
    "ax[1]=sns.pointplot(data=df2,y=df2['Industry use (tonnes)'][5:],x=df2['Year'],color='b',ax=ax[1], linestyles='--')\n",
    "ax[0].set_title('Cassava Food Demand')\n",
    "ax[1].set_title('Cassava Industry Use')\n",
    "ax[0].set_xticklabels([1980,'',1982,'',1984,'',1986,'',1988,'',1990,'',1992,'',1994])\n",
    "ax[1].set_xticklabels([1980,'',1982,'',1984,'',1986,'',1988,'',1990,'',1992,'',1994])\n",
    "ax[0].set_xlabel('Year')\n",
    "ax[1].set_xlabel('Year')\n",
    "plt.show()"
   ]
  },
  {
   "cell_type": "markdown",
   "metadata": {},
   "source": [
    "Between the year 1980 and 1994 for cassava total demand and its industrial use shows a similar increasing trend with some fluctuations."
   ]
  }
 ],
 "metadata": {
  "interpreter": {
   "hash": "420d7ed6979cd352c66806428606ddfc9cefeeb84853fbc86647921a84d6eb24"
  },
  "kernelspec": {
   "display_name": "Python 3.9.4 64-bit ('.venv': venv)",
   "language": "python",
   "name": "python3"
  },
  "language_info": {
   "codemirror_mode": {
    "name": "ipython",
    "version": 3
   },
   "file_extension": ".py",
   "mimetype": "text/x-python",
   "name": "python",
   "nbconvert_exporter": "python",
   "pygments_lexer": "ipython3",
   "version": "3.9.4"
  },
  "orig_nbformat": 4
 },
 "nbformat": 4,
 "nbformat_minor": 2
}
