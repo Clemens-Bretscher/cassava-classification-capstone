{
 "cells": [
  {
   "cell_type": "markdown",
   "metadata": {},
   "source": [
    "# Import Libraries"
   ]
  },
  {
   "cell_type": "code",
   "execution_count": 36,
   "metadata": {},
   "outputs": [],
   "source": [
    "import sys,os,json,glob,cv2\n",
    "from collections import Counter\n",
    "import pandas as pd\n",
    "import numpy as np\n",
    "import matplotlib.pyplot as plt\n",
    "import seaborn as sns\n",
    "from sklearn.model_selection import train_test_split\n",
    "from sklearn.metrics import accuracy_score, fbeta_score,classification_report,confusion_matrix,plot_confusion_matrix\n",
    "from sklearn.model_selection import KFold,StratifiedKFold\n",
    "import tensorflow as tf\n",
    "from tensorflow.keras.models import Sequential\n",
    "from tensorflow.keras.layers import GlobalAveragePooling2D, MaxPooling2D, Flatten, InputLayer, Dense, Dropout, BatchNormalization,Conv2D\n",
    "from tensorflow.keras.optimizers import RMSprop, Adam, SGD\n",
    "from tensorflow.keras.metrics import Accuracy,Recall\n",
    "from tensorflow.keras.callbacks import EarlyStopping, ModelCheckpoint, ReduceLROnPlateau\n",
    "from keras.preprocessing.image import ImageDataGenerator\n",
    "import tensorflow_hub as hub\n",
    "\n",
    "import warnings\n",
    "warnings.filterwarnings('ignore')\n",
    "\n",
    "seed = 42\n",
    "tf.random.set_seed(seed=seed)\n",
    "\n",
    "train_file_path = '../data/cassava-disease/train'\n",
    "js_file_path = '../data/cassava-leaf-disease-classification'"
   ]
  },
  {
   "cell_type": "markdown",
   "metadata": {},
   "source": [
    "## Model training and validation with <b>stratifyKFold</b> cross validation"
   ]
  },
  {
   "cell_type": "code",
   "execution_count": 2,
   "metadata": {},
   "outputs": [],
   "source": [
    "images_dict = {\n",
    "                'cbb': [i for i in glob.glob(train_file_path+'cbb/*.jpg')],\n",
    "                'cbsd': [i for i in glob.glob(train_file_path+'cbsd/*.jpg')],\n",
    "                'cgm': [i for i in glob.glob(train_file_path+'cgm/*.jpg')],\n",
    "                'cmd': [i for i in glob.glob(train_file_path+'cmd/*.jpg')],\n",
    "                'healthy': [i for i in glob.glob(train_file_path+'healthy/*.jpg')]\n",
    "                }"
   ]
  },
  {
   "cell_type": "code",
   "execution_count": 3,
   "metadata": {},
   "outputs": [],
   "source": [
    "labels_dict = {\n",
    "                'cbb': 0,\n",
    "                'cbsd': 1,\n",
    "                'cgm': 2,\n",
    "                'cmd': 3,\n",
    "                'healthy': 4\n",
    "                }"
   ]
  },
  {
   "cell_type": "markdown",
   "metadata": {},
   "source": [
    "## Preprocess data: create vector from raw image file and resize it"
   ]
  },
  {
   "cell_type": "code",
   "execution_count": 4,
   "metadata": {},
   "outputs": [],
   "source": [
    "# create a 3D tensor from images\n",
    "X, y = [], []\n",
    "\n",
    "for labels, images in images_dict.items():\n",
    "    for image in images:\n",
    "        img = cv2.imread(''.join(image))\n",
    "        resized_img = cv2.resize(img, dsize=(224,224))\n",
    "        X.append(resized_img)\n",
    "        y.append(labels_dict[labels])"
   ]
  },
  {
   "cell_type": "code",
   "execution_count": 5,
   "metadata": {},
   "outputs": [],
   "source": [
    "# create an numpy_array\n",
    "X=np.array(X)\n",
    "y=np.array(y)"
   ]
  },
  {
   "cell_type": "code",
   "execution_count": 6,
   "metadata": {},
   "outputs": [],
   "source": [
    "# rescale X\n",
    "X = X.astype(np.float32)/ 255.\n",
    "y = y.astype(np.int32)"
   ]
  },
  {
   "cell_type": "markdown",
   "metadata": {},
   "source": [
    "## Data segregation into train,validation and test sets"
   ]
  },
  {
   "cell_type": "code",
   "execution_count": 7,
   "metadata": {},
   "outputs": [],
   "source": [
    "# split into main and holdout sets\n",
    "\n",
    "#X, X_test, y, y_test = train_test_split(X,y, test_size=0.1)"
   ]
  },
  {
   "cell_type": "code",
   "execution_count": 8,
   "metadata": {},
   "outputs": [
    {
     "data": {
      "text/plain": [
       "(5656, 224, 224, 3)"
      ]
     },
     "execution_count": 8,
     "metadata": {},
     "output_type": "execute_result"
    }
   ],
   "source": [
    "X.shape"
   ]
  },
  {
   "cell_type": "code",
   "execution_count": 80,
   "metadata": {},
   "outputs": [
    {
     "name": "stdout",
     "output_type": "stream",
     "text": [
      "Fold_1\n",
      "Epoch 1/10\n",
      "118/118 [==============================] - 170s 677ms/step - loss: 0.9877 - accuracy: 0.6454 - val_loss: 0.6473 - val_accuracy: 0.7853\n",
      "Epoch 2/10\n",
      "118/118 [==============================] - 71s 599ms/step - loss: 0.7245 - accuracy: 0.7668 - val_loss: 0.5690 - val_accuracy: 0.8155\n",
      "Epoch 3/10\n",
      "118/118 [==============================] - 70s 595ms/step - loss: 0.6317 - accuracy: 0.8074 - val_loss: 0.5630 - val_accuracy: 0.8123\n",
      "Epoch 4/10\n",
      "118/118 [==============================] - 71s 600ms/step - loss: 0.5841 - accuracy: 0.8109 - val_loss: 0.5610 - val_accuracy: 0.8118\n",
      "Epoch 5/10\n",
      "118/118 [==============================] - 70s 592ms/step - loss: 0.5394 - accuracy: 0.8220 - val_loss: 0.5825 - val_accuracy: 0.7996\n",
      "Epoch 6/10\n",
      "118/118 [==============================] - 70s 597ms/step - loss: 0.5343 - accuracy: 0.8241 - val_loss: 0.5482 - val_accuracy: 0.8240\n",
      "Epoch 7/10\n",
      "118/118 [==============================] - 70s 592ms/step - loss: 0.4939 - accuracy: 0.8385 - val_loss: 0.5668 - val_accuracy: 0.8234\n",
      "Epoch 8/10\n",
      "118/118 [==============================] - 70s 593ms/step - loss: 0.4577 - accuracy: 0.8562 - val_loss: 0.5663 - val_accuracy: 0.8229\n",
      "Epoch 9/10\n",
      "118/118 [==============================] - 70s 595ms/step - loss: 0.4515 - accuracy: 0.8576 - val_loss: 0.5835 - val_accuracy: 0.8165\n",
      "Epoch 10/10\n",
      "118/118 [==============================] - 69s 589ms/step - loss: 0.4266 - accuracy: 0.8674 - val_loss: 0.6354 - val_accuracy: 0.8054\n",
      "Fold_2\n",
      "Epoch 1/10\n",
      "118/118 [==============================] - 74s 581ms/step - loss: 0.9175 - accuracy: 0.6791 - val_loss: 0.6340 - val_accuracy: 0.7772\n",
      "Epoch 2/10\n",
      "118/118 [==============================] - 68s 580ms/step - loss: 0.6613 - accuracy: 0.7884 - val_loss: 0.5954 - val_accuracy: 0.8021\n",
      "Epoch 3/10\n",
      "118/118 [==============================] - 69s 588ms/step - loss: 0.6199 - accuracy: 0.8043 - val_loss: 0.5991 - val_accuracy: 0.7883\n",
      "Epoch 4/10\n",
      "118/118 [==============================] - 69s 587ms/step - loss: 0.5572 - accuracy: 0.8242 - val_loss: 0.5846 - val_accuracy: 0.8058\n",
      "Epoch 5/10\n",
      "118/118 [==============================] - 70s 595ms/step - loss: 0.5486 - accuracy: 0.8266 - val_loss: 0.5596 - val_accuracy: 0.8122\n",
      "Epoch 6/10\n",
      "118/118 [==============================] - 69s 589ms/step - loss: 0.5081 - accuracy: 0.8401 - val_loss: 0.5660 - val_accuracy: 0.8191\n",
      "Epoch 7/10\n",
      "118/118 [==============================] - 69s 587ms/step - loss: 0.4748 - accuracy: 0.8449 - val_loss: 0.6036 - val_accuracy: 0.8143\n",
      "Epoch 8/10\n",
      "118/118 [==============================] - 69s 586ms/step - loss: 0.4528 - accuracy: 0.8542 - val_loss: 0.6028 - val_accuracy: 0.8122\n",
      "Epoch 9/10\n",
      "118/118 [==============================] - 69s 586ms/step - loss: 0.4286 - accuracy: 0.8624 - val_loss: 0.6153 - val_accuracy: 0.8170\n",
      "Epoch 10/10\n",
      "118/118 [==============================] - 69s 585ms/step - loss: 0.4020 - accuracy: 0.8735 - val_loss: 0.6288 - val_accuracy: 0.8228\n",
      "Fold_3\n",
      "Epoch 1/10\n",
      "118/118 [==============================] - 80s 606ms/step - loss: 0.8893 - accuracy: 0.6940 - val_loss: 0.6144 - val_accuracy: 0.7963\n",
      "Epoch 2/10\n",
      "118/118 [==============================] - 69s 588ms/step - loss: 0.6754 - accuracy: 0.7767 - val_loss: 0.5646 - val_accuracy: 0.8101\n",
      "Epoch 3/10\n",
      "118/118 [==============================] - 70s 597ms/step - loss: 0.5967 - accuracy: 0.8040 - val_loss: 0.5558 - val_accuracy: 0.8122\n",
      "Epoch 4/10\n",
      "118/118 [==============================] - 71s 599ms/step - loss: 0.5761 - accuracy: 0.8149 - val_loss: 0.5453 - val_accuracy: 0.8122\n",
      "Epoch 5/10\n",
      "118/118 [==============================] - 70s 593ms/step - loss: 0.5425 - accuracy: 0.8221 - val_loss: 0.5192 - val_accuracy: 0.8186\n",
      "Epoch 6/10\n",
      "118/118 [==============================] - 70s 597ms/step - loss: 0.5134 - accuracy: 0.8412 - val_loss: 0.5275 - val_accuracy: 0.8239\n",
      "Epoch 7/10\n",
      "118/118 [==============================] - 71s 601ms/step - loss: 0.4871 - accuracy: 0.8396 - val_loss: 0.5502 - val_accuracy: 0.8196\n",
      "Epoch 8/10\n",
      "118/118 [==============================] - 70s 596ms/step - loss: 0.4796 - accuracy: 0.8470 - val_loss: 0.5494 - val_accuracy: 0.8149\n",
      "Epoch 9/10\n",
      "118/118 [==============================] - 70s 596ms/step - loss: 0.4370 - accuracy: 0.8542 - val_loss: 0.5643 - val_accuracy: 0.8159\n",
      "Epoch 10/10\n",
      "118/118 [==============================] - 70s 596ms/step - loss: 0.4188 - accuracy: 0.8671 - val_loss: 0.5716 - val_accuracy: 0.8149\n"
     ]
    }
   ],
   "source": [
    "# kfold cross validation: split data into train and validation sets, \n",
    "\n",
    "skf = StratifiedKFold(n_splits=3, random_state=42, shuffle=True)\n",
    "\n",
    "y_true, y_predicted, History = [],[],[]\n",
    "k = 0\n",
    "path = '../callbacks/'\n",
    "\n",
    "for train_index, val_index in skf.split(np.zeros(X.shape[0]), y):\n",
    "    k+=1\n",
    "    print(f'Fold_{k}')\n",
    "    #print(train_index,val_index)\n",
    "   \n",
    "    X_train = X[train_index]\n",
    "    y_train = y[train_index]\n",
    "    X_val = X[val_index]\n",
    "    y_val = y[val_index]\n",
    "\n",
    "    TFL_HUB_HANDLE = 'https://tfhub.dev/google/cropnet/feature_vector/cassava_disease_V1/1'\n",
    "\n",
    "    model = Sequential()\n",
    "    model.add(InputLayer(input_shape=(224,224,3)))\n",
    "    model.add(hub.KerasLayer(TFL_HUB_HANDLE,trainable=False))\n",
    "    model.add(Dense(64, activation='relu'))\n",
    "    model.add(Dense(64, activation='relu'))\n",
    "    model.add(Dense(32, activation='relu'))\n",
    "    model.add(Dropout(0.5))\n",
    "    model.add(Dense(5))\n",
    "\n",
    "    # model = Sequential([\n",
    "    #                     Conv2D(16, 3, padding='same', activation='relu'),\n",
    "    #                     MaxPooling2D(),\n",
    "    #                     Conv2D(32, 3, padding='same', activation='relu'),\n",
    "    #                     MaxPooling2D(),\n",
    "    #                     Conv2D(64, 3, padding='same', activation='relu'),\n",
    "    #                     MaxPooling2D(),\n",
    "    #                     Flatten(),\n",
    "    #                     Dense(128, activation='relu'),\n",
    "    #                     Dense(5)\n",
    "    #                     ])\n",
    "\n",
    "    model.compile(optimizer=Adam(),\n",
    "                    loss=tf.keras.losses.SparseCategoricalCrossentropy(from_logits=True),\n",
    "                    metrics=['accuracy'])\n",
    "              \n",
    "    history = model.fit(X_train, y_train, epochs=10, validation_data=(X_val,y_val))\n",
    "\n",
    "    H = history.history\n",
    "    json.dump(H, open(path + f'H_{k}.json', 'w'))\n",
    "\n",
    "    History.append(history.history)\n",
    "\n",
    "    probabilities = model.predict(X_val)\n",
    "    prediction = np.argmax(probabilities, axis=1)\n",
    "    y_predicted.append(prediction)\n",
    "    y_true.append(y_val)  "
   ]
  },
  {
   "cell_type": "code",
   "execution_count": 81,
   "metadata": {},
   "outputs": [
    {
     "name": "stdout",
     "output_type": "stream",
     "text": [
      "INFO:tensorflow:Assets written to: /Users/paulosgidyelew/Desktop/Cassava_Disease_Classifier/cassava-classification-capstone/saved_model/model_cv/assets\n"
     ]
    },
    {
     "name": "stderr",
     "output_type": "stream",
     "text": [
      "INFO:tensorflow:Assets written to: /Users/paulosgidyelew/Desktop/Cassava_Disease_Classifier/cassava-classification-capstone/saved_model/model_cv/assets\n"
     ]
    }
   ],
   "source": [
    "model.save('/Users/paulosgidyelew/Desktop/Cassava_Disease_Classifier/cassava-classification-capstone/saved_model/model_cv')"
   ]
  },
  {
   "cell_type": "code",
   "execution_count": 82,
   "metadata": {},
   "outputs": [],
   "source": [
    "model = tf.keras.models.load_model(r'../saved_model/model_cv')"
   ]
  },
  {
   "cell_type": "code",
   "execution_count": 83,
   "metadata": {},
   "outputs": [
    {
     "name": "stdout",
     "output_type": "stream",
     "text": [
      "Model: \"sequential_5\"\n",
      "_________________________________________________________________\n",
      " Layer (type)                Output Shape              Param #   \n",
      "=================================================================\n",
      " keras_layer_5 (KerasLayer)  (None, 1280)              4234118   \n",
      "                                                                 \n",
      " dense_20 (Dense)            (None, 64)                81984     \n",
      "                                                                 \n",
      " dense_21 (Dense)            (None, 64)                4160      \n",
      "                                                                 \n",
      " dense_22 (Dense)            (None, 32)                2080      \n",
      "                                                                 \n",
      " dropout_5 (Dropout)         (None, 32)                0         \n",
      "                                                                 \n",
      " dense_23 (Dense)            (None, 5)                 165       \n",
      "                                                                 \n",
      "=================================================================\n",
      "Total params: 4,322,507\n",
      "Trainable params: 88,389\n",
      "Non-trainable params: 4,234,118\n",
      "_________________________________________________________________\n"
     ]
    }
   ],
   "source": [
    "model.summary()"
   ]
  },
  {
   "cell_type": "code",
   "execution_count": 84,
   "metadata": {},
   "outputs": [
    {
     "data": {
      "text/plain": [
       "{'loss': [0.9174857139587402,\n",
       "  0.6613113880157471,\n",
       "  0.619852602481842,\n",
       "  0.5572371482849121,\n",
       "  0.548635721206665,\n",
       "  0.5081154108047485,\n",
       "  0.47482988238334656,\n",
       "  0.45284920930862427,\n",
       "  0.4286094307899475,\n",
       "  0.4020380675792694],\n",
       " 'accuracy': [0.6791301965713501,\n",
       "  0.7883850336074829,\n",
       "  0.8042959570884705,\n",
       "  0.8241845369338989,\n",
       "  0.8265712261199951,\n",
       "  0.8400954604148865,\n",
       "  0.8448687195777893,\n",
       "  0.854150116443634,\n",
       "  0.8623707294464111,\n",
       "  0.8735083341598511],\n",
       " 'val_loss': [0.6339747905731201,\n",
       "  0.5954331159591675,\n",
       "  0.5991203784942627,\n",
       "  0.5845853090286255,\n",
       "  0.559563159942627,\n",
       "  0.5660022497177124,\n",
       "  0.6036181449890137,\n",
       "  0.6028439402580261,\n",
       "  0.6153484582901001,\n",
       "  0.6288168430328369],\n",
       " 'val_accuracy': [0.7771883010864258,\n",
       "  0.8021219968795776,\n",
       "  0.7883288860321045,\n",
       "  0.8058355450630188,\n",
       "  0.8122016191482544,\n",
       "  0.8190981149673462,\n",
       "  0.8143236041069031,\n",
       "  0.8122016191482544,\n",
       "  0.8169761300086975,\n",
       "  0.8228116631507874]}"
      ]
     },
     "execution_count": 84,
     "metadata": {},
     "output_type": "execute_result"
    }
   ],
   "source": [
    "# list of history\n",
    "History[1]"
   ]
  },
  {
   "cell_type": "code",
   "execution_count": 85,
   "metadata": {},
   "outputs": [
    {
     "data": {
      "text/plain": [
       "{'loss': [0.8893299698829651,\n",
       "  0.6753814220428467,\n",
       "  0.5966777205467224,\n",
       "  0.5761253833770752,\n",
       "  0.542515218257904,\n",
       "  0.5133779644966125,\n",
       "  0.4870605170726776,\n",
       "  0.4796440005302429,\n",
       "  0.43703699111938477,\n",
       "  0.41876882314682007],\n",
       " 'accuracy': [0.6939803957939148,\n",
       "  0.7767170667648315,\n",
       "  0.8040307760238647,\n",
       "  0.814903199672699,\n",
       "  0.8220630884170532,\n",
       "  0.8411561846733093,\n",
       "  0.839565098285675,\n",
       "  0.846990168094635,\n",
       "  0.854150116443634,\n",
       "  0.867143988609314],\n",
       " 'val_loss': [0.6144165396690369,\n",
       "  0.564595639705658,\n",
       "  0.5557547807693481,\n",
       "  0.5452856421470642,\n",
       "  0.5191698670387268,\n",
       "  0.5275210738182068,\n",
       "  0.550212025642395,\n",
       "  0.5493878722190857,\n",
       "  0.5643006563186646,\n",
       "  0.5716133117675781],\n",
       " 'val_accuracy': [0.7962864637374878,\n",
       "  0.8100795745849609,\n",
       "  0.8122016191482544,\n",
       "  0.8122016191482544,\n",
       "  0.8185676336288452,\n",
       "  0.8238726854324341,\n",
       "  0.8196286559104919,\n",
       "  0.814854085445404,\n",
       "  0.8159151077270508,\n",
       "  0.814854085445404]}"
      ]
     },
     "execution_count": 85,
     "metadata": {},
     "output_type": "execute_result"
    }
   ],
   "source": [
    "history = json.load(open(path + 'H_3.json', 'r'))\n",
    "history"
   ]
  },
  {
   "cell_type": "code",
   "execution_count": 86,
   "metadata": {},
   "outputs": [
    {
     "data": {
      "image/png": "[encoded data removed]",
      "text/plain": [
       "<Figure size 432x288 with 1 Axes>"
      ]
     },
     "metadata": {
      "needs_background": "light"
     },
     "output_type": "display_data"
    }
   ],
   "source": [
    "# plot scores\n",
    "\n",
    "plt.plot(History[0]['accuracy'])\n",
    "plt.plot(History[0]['val_accuracy'])\n",
    "plt.title('model accuracy')\n",
    "plt.ylabel('accuracy')\n",
    "plt.xlabel('epoch')\n",
    "plt.legend(['training', 'validation'], loc='lower right')\n",
    "plt.show()"
   ]
  },
  {
   "cell_type": "markdown",
   "metadata": {},
   "source": [
    "## Final scores after k-fold cv"
   ]
  },
  {
   "cell_type": "code",
   "execution_count": 87,
   "metadata": {},
   "outputs": [
    {
     "name": "stdout",
     "output_type": "stream",
     "text": [
      "Final scores: accuracy = 0.81 and F2_score = 0.71\n"
     ]
    }
   ],
   "source": [
    "y_val = np.concatenate(y_true).astype(np.int64)\n",
    "y_pred = np.concatenate(y_predicted).astype(np.int64)\n",
    "accuracy = accuracy_score(y_val, y_pred)\n",
    "f2_score = fbeta_score(y_val, y_pred, beta=2, average='macro')\n",
    "print(f'Final scores: accuracy = {accuracy.round(2)} and F2_score = {f2_score.round(2)}') "
   ]
  },
  {
   "cell_type": "code",
   "execution_count": 88,
   "metadata": {},
   "outputs": [
    {
     "name": "stdout",
     "output_type": "stream",
     "text": [
      "              precision    recall  f1-score   support\n",
      "\n",
      "           0       0.59      0.50      0.54       466\n",
      "           1       0.78      0.78      0.78      1443\n",
      "           2       0.87      0.68      0.76       773\n",
      "           3       0.86      0.95      0.90      2658\n",
      "           4       0.72      0.61      0.66       316\n",
      "\n",
      "    accuracy                           0.81      5656\n",
      "   macro avg       0.76      0.71      0.73      5656\n",
      "weighted avg       0.81      0.81      0.81      5656\n",
      "\n"
     ]
    }
   ],
   "source": [
    "print(classification_report(y_val,y_pred))"
   ]
  },
  {
   "cell_type": "code",
   "execution_count": 89,
   "metadata": {},
   "outputs": [
    {
     "data": {
      "image/png": "[encoded data removed]",
      "text/plain": [
       "<Figure size 576x360 with 2 Axes>"
      ]
     },
     "metadata": {
      "needs_background": "light"
     },
     "output_type": "display_data"
    }
   ],
   "source": [
    "cm = confusion_matrix(y_val,y_pred)\n",
    "labels = ['CBB','CBSD','CGM','CMD','Healthy']\n",
    "plt.figure(figsize = (8,5))\n",
    "sns.heatmap(cm, \n",
    "            xticklabels=labels,\n",
    "            yticklabels=labels,\n",
    "            annot=True,cmap=\"YlGnBu\",annot_kws={\"size\": 12},cbar_kws={'label': 'Scale'}\n",
    "            )\n",
    "plt.ylabel(\"True Value\"), \n",
    "plt.xlabel(\"Predicted Value\")\n",
    "plt.show()"
   ]
  },
  {
   "cell_type": "markdown",
   "metadata": {},
   "source": [
    "# Prediction on the test set"
   ]
  },
  {
   "cell_type": "code",
   "execution_count": null,
   "metadata": {},
   "outputs": [],
   "source": [
    "y_test_prob = model.predict(X_test)\n",
    "y_test_pred = np.argmax(y_test_prob,axis=1)\n",
    "accuracy = accuracy_score(y_test, y_test_pred)\n",
    "f2_score = fbeta_score(y_test, y_test_pred, beta=2, average='macro')\n",
    "print(f'Final scores: accuracy = {accuracy.round(2)} and F2_score = {f2_score.round(2)}') "
   ]
  },
  {
   "cell_type": "code",
   "execution_count": 55,
   "metadata": {},
   "outputs": [
    {
     "name": "stdout",
     "output_type": "stream",
     "text": [
      "18/18 [==============================] - 4s 129ms/step - loss: 1.1052 - accuracy: 0.6095\n",
      "loss: 1.11 and accuracy: 0.61\n"
     ]
    }
   ],
   "source": [
    "\n",
    "loss, acc = model.evaluate(X_test, y_test, batch_size=32)\n",
    "print(f'loss: {round(loss,2)} and accuracy: {round(acc,2)}')"
   ]
  }
 ],
 "metadata": {
  "interpreter": {
   "hash": "f9f26546e49c7399860be80031a0c20e64d140a50285ea1c22f264eec86c8e93"
  },
  "kernelspec": {
   "display_name": "Python 3.9.4 64-bit ('.venv': venv)",
   "language": "python",
   "name": "python3"
  },
  "language_info": {
   "codemirror_mode": {
    "name": "ipython",
    "version": 3
   },
   "file_extension": ".py",
   "mimetype": "text/x-python",
   "name": "python",
   "nbconvert_exporter": "python",
   "pygments_lexer": "ipython3",
   "version": "3.9.4"
  },
  "orig_nbformat": 4
 },
 "nbformat": 4,
 "nbformat_minor": 2
}
