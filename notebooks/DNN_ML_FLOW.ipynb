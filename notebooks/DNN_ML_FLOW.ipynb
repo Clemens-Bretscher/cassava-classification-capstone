{
 "cells": [
  {
   "cell_type": "code",
   "execution_count": 97,
   "metadata": {},
   "outputs": [],
   "source": [
    "import sys,os,json\n",
    "# adding to the path variables the one folder higher (locally, not changing system variables)\n",
    "sys.path.append(\"..\")\n",
    "import pandas as pd\n",
    "import numpy as np\n",
    "import mlflow\n",
    "\n",
    "from modeling.config import EXPERIMENT_NAME\n",
    "TRACKING_URI = open(\"../.mlflow_uri\").read().strip()\n",
    "\n",
    "import numpy as np\n",
    "import pandas as pd\n",
    "import seaborn as sns\n",
    "\n",
    "import tensorflow as tf\n",
    "import matplotlib.pyplot as plt\n",
    "from collections import Counter\n",
    "from tensorflow.keras.models import Sequential\n",
    "from tensorflow.keras.layers import GlobalAveragePooling2D, MaxPooling2D, Flatten, InputLayer, Dense, Dropout, BatchNormalization,Conv2D\n",
    "from tensorflow.keras.optimizers import RMSprop, Adam, SGD\n",
    "from tensorflow.keras.metrics import Accuracy,Recall,PrecisionAtRecall,RecallAtPrecision\n",
    "from tensorflow.keras.callbacks import EarlyStopping, ModelCheckpoint, ReduceLROnPlateau\n",
    "from keras.preprocessing.image import ImageDataGenerator\n",
    "import tensorflow_hub as hub\n",
    "import warnings\n",
    "warnings.filterwarnings('ignore')\n",
    "\n",
    "seed = 42\n",
    "tf.random.set_seed(seed=seed)\n",
    "\n",
    "file_path = '/Users/paulosgidyelew/Desktop/Capstone_Project/data/kaggle_data/' \n",
    "train_path = '/Users/paulosgidyelew/Desktop/Capstone_Project/data/kaggle_data/train_images'"
   ]
  },
  {
   "cell_type": "code",
   "execution_count": 2,
   "metadata": {},
   "outputs": [],
   "source": [
    "data = pd.read_csv(file_path+'train.csv')\n",
    "\n",
    "with open(file_path+'label_num_to_disease_map.json') as file:\n",
    "    str_labels = json.load(file)\n",
    "    str_labels = {int(k):v for k,v in str_labels.items()}\n",
    "data['label_name'] = data.label.map(str_labels)"
   ]
  },
  {
   "cell_type": "code",
   "execution_count": 3,
   "metadata": {},
   "outputs": [
    {
     "data": {
      "text/html": [
       "<div>\n",
       "<style scoped>\n",
       "    .dataframe tbody tr th:only-of-type {\n",
       "        vertical-align: middle;\n",
       "    }\n",
       "\n",
       "    .dataframe tbody tr th {\n",
       "        vertical-align: top;\n",
       "    }\n",
       "\n",
       "    .dataframe thead th {\n",
       "        text-align: right;\n",
       "    }\n",
       "</style>\n",
       "<table border=\"1\" class=\"dataframe\">\n",
       "  <thead>\n",
       "    <tr style=\"text-align: right;\">\n",
       "      <th></th>\n",
       "      <th>image_id</th>\n",
       "      <th>label_name</th>\n",
       "      <th>label</th>\n",
       "    </tr>\n",
       "  </thead>\n",
       "  <tbody>\n",
       "    <tr>\n",
       "      <th>0</th>\n",
       "      <td>1000015157.jpg</td>\n",
       "      <td>Cassava Bacterial Blight (CBB)</td>\n",
       "      <td>0</td>\n",
       "    </tr>\n",
       "    <tr>\n",
       "      <th>1</th>\n",
       "      <td>1000201771.jpg</td>\n",
       "      <td>Cassava Mosaic Disease (CMD)</td>\n",
       "      <td>3</td>\n",
       "    </tr>\n",
       "    <tr>\n",
       "      <th>2</th>\n",
       "      <td>100042118.jpg</td>\n",
       "      <td>Cassava Brown Streak Disease (CBSD)</td>\n",
       "      <td>1</td>\n",
       "    </tr>\n",
       "    <tr>\n",
       "      <th>3</th>\n",
       "      <td>1000723321.jpg</td>\n",
       "      <td>Cassava Brown Streak Disease (CBSD)</td>\n",
       "      <td>1</td>\n",
       "    </tr>\n",
       "    <tr>\n",
       "      <th>4</th>\n",
       "      <td>1000812911.jpg</td>\n",
       "      <td>Cassava Mosaic Disease (CMD)</td>\n",
       "      <td>3</td>\n",
       "    </tr>\n",
       "  </tbody>\n",
       "</table>\n",
       "</div>"
      ],
      "text/plain": [
       "         image_id                           label_name  label\n",
       "0  1000015157.jpg       Cassava Bacterial Blight (CBB)      0\n",
       "1  1000201771.jpg         Cassava Mosaic Disease (CMD)      3\n",
       "2   100042118.jpg  Cassava Brown Streak Disease (CBSD)      1\n",
       "3  1000723321.jpg  Cassava Brown Streak Disease (CBSD)      1\n",
       "4  1000812911.jpg         Cassava Mosaic Disease (CMD)      3"
      ]
     },
     "execution_count": 3,
     "metadata": {},
     "output_type": "execute_result"
    }
   ],
   "source": [
    "data = data.reindex(columns=['image_id','label_name','label'])\n",
    "data.head()"
   ]
  },
  {
   "cell_type": "code",
   "execution_count": 4,
   "metadata": {},
   "outputs": [
    {
     "data": {
      "text/plain": [
       "array(['Cassava Bacterial Blight (CBB)', 'Cassava Mosaic Disease (CMD)',\n",
       "       'Cassava Brown Streak Disease (CBSD)',\n",
       "       'Cassava Green Mottle (CGM)', 'Healthy'], dtype=object)"
      ]
     },
     "execution_count": 4,
     "metadata": {},
     "output_type": "execute_result"
    }
   ],
   "source": [
    "data.label_name.unique()"
   ]
  },
  {
   "cell_type": "code",
   "execution_count": 5,
   "metadata": {},
   "outputs": [
    {
     "name": "stdout",
     "output_type": "stream",
     "text": [
      "<class 'pandas.core.frame.DataFrame'>\n",
      "RangeIndex: 21397 entries, 0 to 21396\n",
      "Data columns (total 3 columns):\n",
      " #   Column      Non-Null Count  Dtype \n",
      "---  ------      --------------  ----- \n",
      " 0   image_id    21397 non-null  object\n",
      " 1   label_name  21397 non-null  object\n",
      " 2   label       21397 non-null  int64 \n",
      "dtypes: int64(1), object(2)\n",
      "memory usage: 501.6+ KB\n"
     ]
    }
   ],
   "source": [
    "data.info()"
   ]
  },
  {
   "cell_type": "code",
   "execution_count": 6,
   "metadata": {},
   "outputs": [
    {
     "data": {
      "image/png": "[encoded data removed]",
      "text/plain": [
       "<Figure size 432x288 with 1 Axes>"
      ]
     },
     "metadata": {
      "needs_background": "light"
     },
     "output_type": "display_data"
    }
   ],
   "source": [
    "sns.countplot(data=data,y=data.label_name)\n",
    "plt.title('Cassava Leaf Disease Distribution')\n",
    "plt.xlabel('Count')\n",
    "plt.ylabel('')\n",
    "plt.show()"
   ]
  },
  {
   "cell_type": "code",
   "execution_count": 7,
   "metadata": {},
   "outputs": [
    {
     "name": "stdout",
     "output_type": "stream",
     "text": [
      "Found 17118 validated image filenames belonging to 5 classes.\n",
      "Found 4279 validated image filenames belonging to 5 classes.\n"
     ]
    }
   ],
   "source": [
    "image_data_generator = ImageDataGenerator(rescale=1./255,\n",
    "                                            rotation_range = 45,\n",
    "                                            width_shift_range = 0.2,\n",
    "                                            height_shift_range = 0.2,\n",
    "                                            shear_range = 0.2,\n",
    "                                            zoom_range = 0.2,\n",
    "                                            horizontal_flip = True,\n",
    "                                            vertical_flip = True,\n",
    "                                            validation_split=0.2,\n",
    "                                            fill_mode = 'nearest')\n",
    "\n",
    "train_set = image_data_generator.flow_from_dataframe(data,\n",
    "                         directory = train_path,\n",
    "                         seed=seed,\n",
    "                         target_size=(380,380),\n",
    "                         subset='training',\n",
    "                         x_col = 'image_id',\n",
    "                         y_col = 'label_name',\n",
    "                         class_mode = 'categorical',\n",
    "                         shuffle = True,\n",
    "                         batch_size = 32)\n",
    "\n",
    "val_set = image_data_generator.flow_from_dataframe(data,\n",
    "                         directory = train_path,\n",
    "                         seed=seed,\n",
    "                         target_size=(380,380),\n",
    "                         subset='validation',\n",
    "                         x_col = 'image_id',\n",
    "                         y_col = 'label_name',\n",
    "                         class_mode = 'categorical',\n",
    "                         shuffle = False,\n",
    "                         batch_size = 32)"
   ]
  },
  {
   "cell_type": "markdown",
   "metadata": {},
   "source": [
    "## Trainining the model and tracking with MLFlow"
   ]
  },
  {
   "cell_type": "code",
   "execution_count": 8,
   "metadata": {},
   "outputs": [],
   "source": [
    "# setting the MLFlow connection and experiment\n",
    "mlflow.set_tracking_uri(TRACKING_URI)\n",
    "mlflow.set_experiment(EXPERIMENT_NAME)\n",
    "mlflow.start_run()\n",
    "run = mlflow.active_run()"
   ]
  },
  {
   "cell_type": "code",
   "execution_count": 9,
   "metadata": {},
   "outputs": [
    {
     "name": "stdout",
     "output_type": "stream",
     "text": [
      "Active run_id: b98d91af170144e1884e29790c88451d\n"
     ]
    }
   ],
   "source": [
    "print(\"Active run_id: {}\".format(run.info.run_id))"
   ]
  },
  {
   "cell_type": "code",
   "execution_count": 10,
   "metadata": {},
   "outputs": [],
   "source": [
    "from tensorflow.keras.callbacks import ModelCheckpoint\n",
    "check_point_file_path = 'model.h5'\n",
    "model_check_point = tf.keras.callbacks.ModelCheckpoint(check_point_file_path,\n",
    "                                        verbose=1,\n",
    "                                        save_weights_only=True,\n",
    "                                        monitor='val_loss',\n",
    "                                        mode='auto',\n",
    "                                        save_best_only=True\n",
    "                                        )"
   ]
  },
  {
   "cell_type": "code",
   "execution_count": 11,
   "metadata": {},
   "outputs": [
    {
     "name": "stderr",
     "output_type": "stream",
     "text": [
      "2021-11-30 18:09:45.361545: I tensorflow/core/platform/cpu_feature_guard.cc:151] This TensorFlow binary is optimized with oneAPI Deep Neural Network Library (oneDNN) to use the following CPU instructions in performance-critical operations:  AVX2 FMA\n",
      "To enable them in other operations, rebuild TensorFlow with the appropriate compiler flags.\n"
     ]
    }
   ],
   "source": [
    "TFL_HUB_HANDLE = \"https://tfhub.dev/tensorflow/efficientnet/b4/feature-vector/1\"\n",
    "\n",
    "model = Sequential()\n",
    "model.add(InputLayer(input_shape = (380,380,3)))\n",
    "model.add(hub.KerasLayer(TFL_HUB_HANDLE, trainable=False))\n",
    "model.add(Dense(64, activation='relu'))\n",
    "model.add(Dropout(0.5))\n",
    "model.add(Dense(32, activation='relu'))\n",
    "model.add(Dropout(0.5))\n",
    "model.add(Dense(5,'softmax'))"
   ]
  },
  {
   "cell_type": "code",
   "execution_count": 12,
   "metadata": {},
   "outputs": [
    {
     "name": "stdout",
     "output_type": "stream",
     "text": [
      "Model: \"sequential\"\n",
      "_________________________________________________________________\n",
      " Layer (type)                Output Shape              Param #   \n",
      "=================================================================\n",
      " keras_layer (KerasLayer)    (None, 1792)              17673816  \n",
      "                                                                 \n",
      " dense (Dense)               (None, 64)                114752    \n",
      "                                                                 \n",
      " dropout (Dropout)           (None, 64)                0         \n",
      "                                                                 \n",
      " dense_1 (Dense)             (None, 32)                2080      \n",
      "                                                                 \n",
      " dropout_1 (Dropout)         (None, 32)                0         \n",
      "                                                                 \n",
      " dense_2 (Dense)             (None, 5)                 165       \n",
      "                                                                 \n",
      "=================================================================\n",
      "Total params: 17,790,813\n",
      "Trainable params: 116,997\n",
      "Non-trainable params: 17,673,816\n",
      "_________________________________________________________________\n"
     ]
    }
   ],
   "source": [
    "model.compile(optimizer=Adam(),loss='categorical_crossentropy', \n",
    "            metrics=[Accuracy(), Recall(), PrecisionAtRecall(recall=0.8)])\n",
    "            \n",
    "model.summary()"
   ]
  },
  {
   "cell_type": "code",
   "execution_count": 41,
   "metadata": {},
   "outputs": [
    {
     "name": "stdout",
     "output_type": "stream",
     "text": [
      "Epoch 1/2\n",
      "535/535 [==============================] - ETA: 0s - loss: 0.9964 - accuracy: 1.1684e-05 - recall: 0.4733 - precision_at_recall: 0.4476\n",
      "Epoch 00001: val_loss improved from inf to 0.81922, saving model to model.h5\n",
      "535/535 [==============================] - 3943s 7s/step - loss: 0.9964 - accuracy: 1.1684e-05 - recall: 0.4733 - precision_at_recall: 0.4476 - val_loss: 0.8192 - val_accuracy: 0.0000e+00 - val_recall: 0.5155 - val_precision_at_recall: 0.6019\n",
      "Epoch 2/2\n",
      "535/535 [==============================] - ETA: 0s - loss: 0.8865 - accuracy: 2.3367e-05 - recall: 0.5246 - precision_at_recall: 0.5213\n",
      "Epoch 00002: val_loss improved from 0.81922 to 0.77264, saving model to model.h5\n",
      "535/535 [==============================] - 4112s 8s/step - loss: 0.8865 - accuracy: 2.3367e-05 - recall: 0.5246 - precision_at_recall: 0.5213 - val_loss: 0.7726 - val_accuracy: 0.0000e+00 - val_recall: 0.5321 - val_precision_at_recall: 0.6268\n"
     ]
    }
   ],
   "source": [
    "history = model.fit(train_set, epochs=2, verbose=1, callbacks=[model_check_point], validation_data=val_set)"
   ]
  },
  {
   "cell_type": "code",
   "execution_count": 107,
   "metadata": {},
   "outputs": [],
   "source": [
    "path = '/Users/paulosgidyelew/Desktop/Cassava_Disease_Classifier/cassava-classification-capstone/images/'"
   ]
  },
  {
   "cell_type": "code",
   "execution_count": 145,
   "metadata": {},
   "outputs": [
    {
     "data": {
      "image/png": "[encoded data removed]",
      "text/plain": [
       "<Figure size 432x288 with 1 Axes>"
      ]
     },
     "metadata": {
      "needs_background": "light"
     },
     "output_type": "display_data"
    }
   ],
   "source": [
    "from tensorflow.keras.utils import plot_model\n",
    "\n",
    "plt.plot(history.history['accuracy'])\n",
    "plt.plot(history.history['val_accuracy'])\n",
    "plt.title('model accuracy')\n",
    "plt.ylabel('accuracy')\n",
    "plt.xlabel('epoch')\n",
    "plt.legend(['training', 'validation'], loc='lower right')\n",
    "plt.savefig(path+'acc.png')\n",
    "plt.show()"
   ]
  },
  {
   "cell_type": "code",
   "execution_count": 144,
   "metadata": {},
   "outputs": [
    {
     "data": {
      "image/png": "[encoded data removed]",
      "text/plain": [
       "<Figure size 432x288 with 1 Axes>"
      ]
     },
     "metadata": {
      "needs_background": "light"
     },
     "output_type": "display_data"
    }
   ],
   "source": [
    "plt.plot(history.history['loss'],color='r')\n",
    "plt.plot(history.history['val_loss'],color='k')\n",
    "plt.legend(['loss','val_loss'],loc='upper right')\n",
    "plt.xlabel('epoch')\n",
    "plt.ylabel('loss')\n",
    "plt.savefig(path+f\"loss.png\")      \n",
    "plt.show()"
   ]
  },
  {
   "cell_type": "code",
   "execution_count": 47,
   "metadata": {},
   "outputs": [],
   "source": [
    "#seting parameters that should be logged on MLFlow\n",
    "#these parameters were used in feature engineering (inputing missing values)\n",
    "#or parameters of the model (fit_intercept for Linear Regression model)\n",
    "params = {\n",
    "      \"model_summary\": [f'{layer.name}: {str(layer.trainable)}' for layer in model.layers],\n",
    "      \"loss function\": model.loss,\n",
    "      \"model\": model.name,\n",
    "      \"input_shape\": model.input_shape[1:],\n",
    "      \"output_shape\": model.output_shape,\n",
    "      \"epoch\": history.epoch\n",
    "  }"
   ]
  },
  {
   "cell_type": "code",
   "execution_count": 101,
   "metadata": {},
   "outputs": [],
   "source": [
    "#logging params to mlflow\n",
    "mlflow.log_params(params)\n",
    "#setting tags\n",
    "mlflow.set_tag(\"running_from_jupyter\", True)\n",
    "mlflow.set_experiment('model_1')\n",
    "#logging metrics\n",
    "mlflow.log_metric(\"F2 score\", history.history['precision_at_recall'][-1])\n",
    "mlflow.log_metric(\"F2 score\", history.history['val_precision_at_recall'][-1])\n",
    "mlflow.log_metric(\"recall\", history.history['recall'][-1])\n",
    "mlflow.log_metric(\"val_recall\", history.history['val_recall'][-1])\n",
    "mlflow.log_metric(\"loss\",history.history['loss'][-1])\n",
    "mlflow.log_metric(\"val_loss\",history.history['val_loss'][-1])\n",
    "# logging the model to mlflow will not work without a AWS Connection setup.. too complex for now\n",
    "# but possible if running mlflow locally\n",
    "# mlflow.log_artifact(\"../models\")\n",
    "# mlflow.sklearn.log_model(reg, \"model\")\n",
    "mlflow.end_run()"
   ]
  },
  {
   "cell_type": "code",
   "execution_count": 102,
   "metadata": {},
   "outputs": [
    {
     "data": {
      "text/plain": [
       "<Run: data=<RunData: metrics={'F2 score': 0.626781165599823,\n",
       " 'accuracy': 0.5245940089225769,\n",
       " 'loss': 0.88648521900177,\n",
       " 'recall': 0.5245940089225769,\n",
       " 'val_accuracy': 0.5321336984634399,\n",
       " 'val_loss': 0.7726395130157471}, params={'epoch': '[0, 1]',\n",
       " 'input shape': '(380, 380, 3)',\n",
       " 'loss function': 'categorical_crossentropy',\n",
       " 'model': 'sequential',\n",
       " 'model_summary': \"['keras_layer: False', 'dense: True', 'dropout: True', \"\n",
       "                  \"'dense_1: True', 'dropout_1: True', 'dense_2: True']\",\n",
       " 'output shape': '(None, 5)'}, tags={'mlflow.source.name': 'ipykernel_launcher',\n",
       " 'mlflow.source.type': 'LOCAL',\n",
       " 'mlflow.user': 'paulosgidyelew',\n",
       " 'running_from_jupyter': 'True'}>, info=<RunInfo: artifact_uri='s3://neuefische-mlflow/mlflow-artifacts/35/b98d91af170144e1884e29790c88451d/artifacts', end_time=1638303232950, experiment_id='35', lifecycle_stage='active', run_id='b98d91af170144e1884e29790c88451d', run_uuid='b98d91af170144e1884e29790c88451d', start_time=1638292164027, status='FINISHED', user_id='paulosgidyelew'>>"
      ]
     },
     "execution_count": 102,
     "metadata": {},
     "output_type": "execute_result"
    }
   ],
   "source": [
    "mlflow.get_run(run_id=run.info.run_id)"
   ]
  },
  {
   "cell_type": "markdown",
   "metadata": {},
   "source": [
    "## Checking the experiments\n",
    "\n",
    "while the next cell is running you will not be able to run other cells in the notebook"
   ]
  },
  {
   "cell_type": "code",
   "execution_count": 74,
   "metadata": {},
   "outputs": [
    {
     "name": "stdout",
     "output_type": "stream",
     "text": [
      "/Users/paulosgidyelew/Desktop/Cassava_Disease_Classifier/cassava-classification-capstone/.venv/lib/python3.9/site-packages/pandas/compat/__init__.py:124: UserWarning: Could not import the lzma module. Your installed Python is incomplete. Attempting to use lzma compression will result in a RuntimeError.\n",
      "  warnings.warn(msg)\n",
      "[2021-11-30 21:14:28 +0100] [2190] [INFO] Starting gunicorn 20.1.0\n",
      "[2021-11-30 21:14:28 +0100] [2190] [INFO] Listening at: http://127.0.0.1:5000 (2190)\n",
      "[2021-11-30 21:14:28 +0100] [2190] [INFO] Using worker: sync\n",
      "[2021-11-30 21:14:28 +0100] [2191] [INFO] Booting worker with pid: 2191\n",
      "/Users/paulosgidyelew/Desktop/Cassava_Disease_Classifier/cassava-classification-capstone/.venv/lib/python3.9/site-packages/pandas/compat/__init__.py:124: UserWarning: Could not import the lzma module. Your installed Python is incomplete. Attempting to use lzma compression will result in a RuntimeError.\n",
      "  warnings.warn(msg)\n",
      "^C\n",
      "[2021-11-30 21:18:53 +0100] [2190] [INFO] Handling signal: int\n",
      "[2021-11-30 21:18:53 +0100] [2191] [INFO] Worker exiting (pid: 2191)\n"
     ]
    }
   ],
   "source": [
    "!mlflow ui"
   ]
  }
 ],
 "metadata": {
  "interpreter": {
   "hash": "f9f26546e49c7399860be80031a0c20e64d140a50285ea1c22f264eec86c8e93"
  },
  "kernelspec": {
   "display_name": "Python 3.9.4 64-bit ('.venv': venv)",
   "language": "python",
   "name": "python3"
  },
  "language_info": {
   "codemirror_mode": {
    "name": "ipython",
    "version": 3
   },
   "file_extension": ".py",
   "mimetype": "text/x-python",
   "name": "python",
   "nbconvert_exporter": "python",
   "pygments_lexer": "ipython3",
   "version": "3.9.4"
  },
  "orig_nbformat": 4
 },
 "nbformat": 4,
 "nbformat_minor": 2
}
