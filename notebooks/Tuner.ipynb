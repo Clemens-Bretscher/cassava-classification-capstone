{
  "cells": [
    {
      "cell_type": "markdown",
      "metadata": {},
      "source": [
        "# Install requirements (dependencies)"
      ]
    },
    {
      "cell_type": "code",
      "execution_count": null,
      "metadata": {
        "colab": {
          "base_uri": "https://localhost:8080/"
        },
        "id": "Qtb_Llsd62xn",
        "outputId": "f3d0738e-e8b5-413f-93bd-743fb058b376"
      },
      "outputs": [],
      "source": [
        "!pip install keras_tuner"
      ]
    },
    {
      "cell_type": "code",
      "execution_count": null,
      "metadata": {
        "colab": {
          "base_uri": "https://localhost:8080/"
        },
        "id": "oUxUxn8ahfY9",
        "outputId": "30b66c4a-af27-4981-bc50-0c194ea351e5"
      },
      "outputs": [],
      "source": [
        "!pip install tensorflow-gpu"
      ]
    },
    {
      "cell_type": "code",
      "execution_count": null,
      "metadata": {
        "id": "gVGefSmF26eg"
      },
      "outputs": [],
      "source": [
        "#!nvidia-smi"
      ]
    },
    {
      "cell_type": "markdown",
      "metadata": {
        "id": "TqKgSgRpeIL8"
      },
      "source": [
        "# Import Libraries"
      ]
    },
    {
      "cell_type": "code",
      "execution_count": null,
      "metadata": {
        "id": "RG87XFZ8zt1u"
      },
      "outputs": [],
      "source": [
        "from tensorflow import keras\n",
        "from keras_tuner import Hyperband\n",
        "from tensorflow.keras import callbacks\n",
        "from tensorflow.keras.preprocessing.image import ImageDataGenerator"
      ]
    },
    {
      "cell_type": "code",
      "execution_count": null,
      "metadata": {
        "id": "tXBFi3523EdD"
      },
      "outputs": [],
      "source": [
        "#download kaggle api (kaggle.json) and import it here\n",
        "#from google.colab import files\n",
        "#files.upload()"
      ]
    },
    {
      "cell_type": "code",
      "execution_count": null,
      "metadata": {
        "id": "9PUI3YQs3IrH"
      },
      "outputs": [],
      "source": [
        "# 600 permissions: only the owner has full read and write access to the API key (chmod=change mode)\n",
        "\n",
        "#!mkdir ~/.kaggle\n",
        "#!cp /content/kaggle.json ~/.kaggle/\n",
        "#!chmod 600 ~/.kaggle/kaggle.json"
      ]
    },
    {
      "cell_type": "code",
      "execution_count": null,
      "metadata": {
        "id": "JH6B0tEB3N9V"
      },
      "outputs": [],
      "source": [
        "#!kaggle competitions download -c cassava-disease -f train.zip\n",
        "#!kaggle competitions download -c cassava-disease -f test.zip"
      ]
    },
    {
      "cell_type": "code",
      "execution_count": null,
      "metadata": {
        "id": "_DmJA7u13W00"
      },
      "outputs": [],
      "source": [
        "#!unzip train.zip -d /content/drive/MyDrive/ #/dev/null\n",
        "#!unzip test.zip > /dev/null"
      ]
    },
    {
      "cell_type": "code",
      "execution_count": null,
      "metadata": {
        "id": "NXddENOmgpIk"
      },
      "outputs": [],
      "source": [
        "train_path = '/content/drive/MyDrive/train'"
      ]
    },
    {
      "cell_type": "code",
      "execution_count": null,
      "metadata": {
        "colab": {
          "base_uri": "https://localhost:8080/"
        },
        "id": "UajGPRuR3y5L",
        "outputId": "e48ec3eb-c3bb-45c4-dc38-ffdb643d8246"
      },
      "outputs": [
        {
          "name": "stdout",
          "output_type": "stream",
          "text": [
            "Found 5656 images belonging to 5 classes.\n",
            "Found 1129 images belonging to 5 classes.\n"
          ]
        }
      ],
      "source": [
        "image_data_generator = ImageDataGenerator(rescale=1./255,\n",
        "                                          rotation_range=90, \n",
        "                                          shear_range=0.2, \n",
        "                                          zoom_range=0.2, \n",
        "                                          horizontal_flip=True, \n",
        "                                          vertical_flip=True,\n",
        "                                          validation_split=0.2\n",
        "                                          )\n",
        "                                                                               \n",
        "train_set = image_data_generator.flow_from_directory(train_path, \n",
        "                                                     subset='training', \n",
        "                                                     target_size=(224,224), \n",
        "                                                     class_mode='categorical', \n",
        "                                                     batch_size=32, \n",
        "                                                     shuffle=True,\n",
        "                                                     interpolation='nearest',\n",
        "                                                     color_mode=\"rgb\",\n",
        "                                                     )\n",
        "val_set = image_data_generator.flow_from_directory(train_path, \n",
        "                                                   subset='validation', \n",
        "                                                   target_size=(224,224), \n",
        "                                                   class_mode='categorical', \n",
        "                                                   batch_size=32, \n",
        "                                                   shuffle=False,\n",
        "                                                   interpolation='nearest',  \n",
        "                                                   color_mode=\"rgb\"\n",
        "                                                   )"
      ]
    },
    {
      "cell_type": "markdown",
      "metadata": {
        "id": "2QFwQRZL6mjT"
      },
      "source": [
        "### Define a hypermodel through two approaches:\n",
        "\n",
        "+ By using a model builder function\n",
        "+ By subclassing the HyperModel class of the Keras Tuner API\n",
        "Two pre-defined HyperModel classes - <mark>HyperXception and HyperResNet</mark> can also be used for computer vision applications."
      ]
    },
    {
      "cell_type": "code",
      "execution_count": null,
      "metadata": {
        "id": "5pxM4fBJz1qo"
      },
      "outputs": [],
      "source": [
        "def model_builder(hp):\n",
        "  model = keras.Sequential()\n",
        "  #keras.applications.MobileNetV3Large() \n",
        "  \n",
        "  model.add(keras.layers.InputLayer(input_shape=(224, 224, 3)))\n",
        "  #model.add(keras.layers.Flatten())\n",
        "\n",
        "  # Tune the number of units in the first Dense layer\n",
        "  # Choose an optimal value between 32-512\n",
        "\n",
        "  for i in range(hp.Int('layers',min_value=0,max_value=3)):\n",
        "    model.add(keras.layers.Conv2D(hp.Int(f'filter_{i}',min_value=32,max_value=512),(3,3),activation='relu'))\n",
        "\n",
        "  model.add(keras.layers.MaxPool2D(pool_size=(2,2)))\n",
        "  model.add(keras.layers.Flatten())\n",
        "\n",
        "  hp_units = hp.Int('units', min_value=32, max_value=512, step=32)\n",
        "  model.add(keras.layers.Dense(units=hp_units, activation='relu'))\n",
        "\n",
        "  if hp.Boolean('dropout'):\n",
        "    model.add(keras.layers.Dropout(rate=0.25))\n",
        "  model.add(keras.layers.Dense(5,'softmax'))\n",
        "\n",
        "  # Tune the learning rate for the optimizer\n",
        "  # Choose an optimal value from 0.01, 0.001, or 0.0001\n",
        "\n",
        "  model.compile(optimizer=keras.optimizers.Adam(learning_rate=hp.Choice('learning_rate', values=[1e-2, 1e-3, 1e-4])),\n",
        "                loss='categorical_crossentropy',\n",
        "                metrics=['accuracy'])\n",
        "\n",
        "  return model"
      ]
    },
    {
      "cell_type": "markdown",
      "metadata": {
        "id": "BpMcTGkD6dvk"
      },
      "source": [
        "### Instantiate the Hyperband tuner: Specify the hypermodel, the objective to optimize and the maximum number of epochs to train (max_epochs)."
      ]
    },
    {
      "cell_type": "code",
      "execution_count": null,
      "metadata": {
        "colab": {
          "base_uri": "https://localhost:8080/"
        },
        "id": "0xh1SknS1LyG",
        "outputId": "61cd7dcd-e247-4c79-be0b-92c6471642b6"
      },
      "outputs": [
        {
          "name": "stdout",
          "output_type": "stream",
          "text": [
            "INFO:tensorflow:Reloading Oracle from existing project /content/drive/MyDrive/my_dir/hyper_tuner/oracle.json\n",
            "INFO:tensorflow:Reloading Tuner from /content/drive/MyDrive/my_dir/hyper_tuner/tuner0.json\n"
          ]
        }
      ],
      "source": [
        "tuner = Hyperband(model_builder,\n",
        "                     objective='val_accuracy',\n",
        "                     max_epochs=5,\n",
        "                     factor=3,\n",
        "                     directory='/content/drive/MyDrive/my_dir',\n",
        "                     project_name='hyper_tuner_01')"
      ]
    },
    {
      "cell_type": "markdown",
      "metadata": {
        "id": "MQ7iqLvT5ivy"
      },
      "source": [
        "### A callback to stop training early after reaching a certain value for the validation loss"
      ]
    },
    {
      "cell_type": "code",
      "execution_count": null,
      "metadata": {
        "id": "71VrT5Ff1UeC"
      },
      "outputs": [],
      "source": [
        "stop_early = callbacks.EarlyStopping(monitor='val_loss', patience=5)"
      ]
    },
    {
      "cell_type": "markdown",
      "metadata": {
        "id": "g46I7JRv5-Da"
      },
      "source": [
        "### Hyperparameter search: The arguments for the search method are the same as those used for tf.keras.model.fit in addition to the callback above."
      ]
    },
    {
      "cell_type": "code",
      "execution_count": null,
      "metadata": {
        "colab": {
          "base_uri": "https://localhost:8080/"
        },
        "id": "sA-5qFp42kUI",
        "outputId": "b3082cac-70a8-4b73-fca0-85c4203fa69c"
      },
      "outputs": [
        {
          "name": "stdout",
          "output_type": "stream",
          "text": [
            "Trial 3 Complete [01h 31m 24s]\n",
            "val_accuracy: 0.5659875869750977\n",
            "\n",
            "Best val_accuracy So Far: 0.5828166604042053\n",
            "Total elapsed time: 01h 31m 24s\n",
            "\n",
            "Search: Running Trial #4\n",
            "\n",
            "Hyperparameter    |Value             |Best Value So Far \n",
            "layers            |3                 |3                 \n",
            "units             |256               |288               \n",
            "dropout           |False             |False             \n",
            "learning_rate     |0.001             |0.001             \n",
            "units0            |510               |32                \n",
            "units1            |470               |32                \n",
            "units2            |244               |32                \n",
            "units_0           |317               |None              \n",
            "tuner/epochs      |2                 |2                 \n",
            "tuner/initial_e...|0                 |0                 \n",
            "tuner/bracket     |2                 |2                 \n",
            "tuner/round       |0                 |0                 \n",
            "\n",
            "Epoch 1/2\n"
          ]
        }
      ],
      "source": [
        "tuner.search(train_set, epochs=2,validation_data=val_set, callbacks=[stop_early])\n",
        "\n",
        "# Get the optimal hyperparameters\n",
        "best_hps=tuner.get_best_hyperparameters(num_trials=1)[0]\n",
        "\n",
        "print(f\"\"\"\n",
        "The hyperparameter search is complete. The optimal number of units in the first densely-connected\n",
        "layer is {best_hps.get('units')} and the optimal learning rate for the optimizer\n",
        "is {best_hps.get('learning_rate')}.\n",
        "\"\"\")"
      ]
    },
    {
      "cell_type": "markdown",
      "metadata": {
        "id": "CZQlfZLF4Rdr"
      },
      "source": [
        "### Find the optimal number of epochs to train the model with the hyperparameters obtained from the search."
      ]
    },
    {
      "cell_type": "code",
      "execution_count": null,
      "metadata": {
        "id": "IFgSqe355luP"
      },
      "outputs": [],
      "source": [
        "# Build the model with the optimal hyperparameters and train it on the data for 10 epochs\n",
        "model = tuner.hypermodel.build(best_hps)\n",
        "history = model.fit_generator(train_set, epochs=10, validation_data=val_set)\n",
        "\n",
        "val_acc_per_epoch = history.history['val_accuracy']\n",
        "best_epoch = val_acc_per_epoch.index(max(val_acc_per_epoch)) + 1\n",
        "print('Best epoch: %d' % (best_epoch,))"
      ]
    },
    {
      "cell_type": "markdown",
      "metadata": {
        "id": "8fQMfaxO4UhU"
      },
      "source": [
        "### Re-instantiate the hypermodel and train it with the optimal number of epochs from above."
      ]
    },
    {
      "cell_type": "code",
      "execution_count": null,
      "metadata": {
        "id": "T4HTGut64K98"
      },
      "outputs": [],
      "source": [
        "hypermodel = tuner.hypermodel.build(best_hps)\n",
        "\n",
        "# Retrain the model\n",
        "hypermodel.fit(train_set, epochs=best_epoch, validation_data=val_set)"
      ]
    },
    {
      "cell_type": "markdown",
      "metadata": {
        "id": "veOkLC_54fG9"
      },
      "source": [
        "### Evaluate the hypermodel on the validation data"
      ]
    },
    {
      "cell_type": "code",
      "execution_count": null,
      "metadata": {
        "id": "-emo_ASe4nVP"
      },
      "outputs": [],
      "source": [
        "eval_result = hypermodel.evaluate_generator(val_set)\n",
        "print(\"[val_loss, val_accuracy]:\", eval_result)"
      ]
    }
  ],
  "metadata": {
    "accelerator": "GPU",
    "colab": {
      "collapsed_sections": [],
      "name": "Tuner.ipynb",
      "provenance": []
    },
    "kernelspec": {
      "display_name": "Python 3",
      "name": "python3"
    },
    "language_info": {
      "name": "python"
    }
  },
  "nbformat": 4,
  "nbformat_minor": 0
}
