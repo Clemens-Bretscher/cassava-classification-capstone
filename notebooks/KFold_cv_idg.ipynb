{
 "cells": [
  {
   "cell_type": "markdown",
   "metadata": {},
   "source": [
    "<h1>Under- and Over-fitting</h1>\n",
    "<p style='text-align:justify'><b>Under-fitting</b> happens when the model has a very high bias and is unable to capture the complex patterns in the data, that means the model is simpler than needed. This leads to higher training and validation errors since the model is not complex enough to classify the underlying data. \n",
    "\n",
    "<p style='text-align: justify'><b>Over-fitting</b> is the opposite in the sense that the model is too complex (or higher model) and captures even the noise in the data and the model starts to memorize the data. Therefore in this case one would observe a very low test error value. However, when it would fail to generalize to both the validation and test sets.\n",
    "The goal is to hit the optimal sweet spot, therefore, we need to find the optimal fitting point where the model has a smaller gap between the training and validation error values. It should better generalization than in the other two cases.</p>\n",
    "\n",
    "<h3>How to handle under-fitting</h3>\n",
    "\n",
    "<ol>\n",
    "\n",
    "<li>Increasing the model complexity - increasing the number of parameters, for instance, decrease number of dropouts.</li> \n",
    "\n",
    "<li>Training the model with more epochs.</li>\n",
    "\n",
    "</ol>\n",
    "\n",
    "<h3>How to handle over-fitting</h3>\n",
    "<ol>\n",
    "<li>Increasing training data </li>\n",
    "<li>Create more data through image augmentation process</li>\n",
    "<li>Regularization:</li>\n",
    "    <ul>\n",
    "    <li>Early stopping </li>\n",
    "    <li>Adding L1, L2 norms to the loss function to impose penalty on network weights (parameter)</li>\n",
    "    </ul>\n",
    "</ol>\n",
    "\n",
    "Source: [towards data science](https://towardsdatascience.com/techniques-for-handling-underfitting-and-overfitting-in-machine-learning-348daa2380b9)"
   ]
  },
  {
   "cell_type": "code",
   "execution_count": 2,
   "metadata": {},
   "outputs": [
    {
     "name": "stderr",
     "output_type": "stream",
     "text": [
      "/Users/paulosgidyelew/Desktop/Cassava_Disease_Classifier/cassava-classification-capstone/.venv/lib/python3.9/site-packages/pandas/compat/__init__.py:124: UserWarning: Could not import the lzma module. Your installed Python is incomplete. Attempting to use lzma compression will result in a RuntimeError.\n",
      "  warnings.warn(msg)\n"
     ]
    }
   ],
   "source": [
    "import sys,os,json,glob,cv2\n",
    "from collections import Counter\n",
    "import numpy as np\n",
    "import matplotlib.pyplot as plt\n",
    "import seaborn as sns\n",
    "from sklearn.model_selection import train_test_split\n",
    "from sklearn.metrics import accuracy_score, fbeta_score\n",
    "import tensorflow as tf\n",
    "from tensorflow.keras.models import Sequential\n",
    "from tensorflow.keras.layers import GlobalAveragePooling2D, MaxPooling2D, Flatten, InputLayer, Dense, Dropout, BatchNormalization,Conv2D\n",
    "from tensorflow.keras.optimizers import RMSprop, Adam, SGD\n",
    "from tensorflow.keras.metrics import Accuracy,Recall,PrecisionAtRecall,RecallAtPrecision\n",
    "from tensorflow.keras.callbacks import EarlyStopping, ModelCheckpoint, ReduceLROnPlateau\n",
    "from keras.preprocessing.image import ImageDataGenerator\n",
    "import tensorflow_hub as hub\n",
    "\n",
    "import warnings\n",
    "warnings.filterwarnings('ignore')\n",
    "\n",
    "seed = 42\n",
    "tf.random.set_seed(seed=seed)\n",
    "\n",
    "train_file_path = '/Users/paulosgidyelew/Desktop/Capstone_Project/data/tensor_flow_data/train/'\n",
    "js_file_path = '/Users/paulosgidyelew/Desktop/Capstone_Project/data/kaggle_data/'"
   ]
  },
  {
   "cell_type": "code",
   "execution_count": 3,
   "metadata": {},
   "outputs": [],
   "source": [
    "images_dict = {\n",
    "                'cbb': [i for i in glob.glob(train_file_path+'cbb/*.jpg')],\n",
    "                'cbsd': [i for i in glob.glob(train_file_path+'cbsd/*.jpg')],\n",
    "                'cgm': [i for i in glob.glob(train_file_path+'cgm/*.jpg')],\n",
    "                'cmd': [i for i in glob.glob(train_file_path+'cmd/*.jpg')],\n",
    "                'healthy': [i for i in glob.glob(train_file_path+'healthy/*.jpg')]\n",
    "                }"
   ]
  },
  {
   "cell_type": "code",
   "execution_count": 4,
   "metadata": {},
   "outputs": [],
   "source": [
    "labels_dict = {\n",
    "                'cbb': 0,\n",
    "                'cbsd': 1,\n",
    "                'cgm': 2,\n",
    "                'cmd': 3,\n",
    "                'healthy': 4\n",
    "                }"
   ]
  },
  {
   "cell_type": "markdown",
   "metadata": {},
   "source": [
    "## Preprocess data: create vector from raw image file and resize it"
   ]
  },
  {
   "cell_type": "code",
   "execution_count": 5,
   "metadata": {},
   "outputs": [],
   "source": [
    "# create a 3D tensor from images\n",
    "X, y = [], []\n",
    "\n",
    "for labels, images in images_dict.items():\n",
    "    for image in images:\n",
    "        img = cv2.imread(''.join(image))\n",
    "        resized_img = cv2.resize(img, dsize=(224,224))\n",
    "        X.append(resized_img)\n",
    "        y.append(labels_dict[labels])"
   ]
  },
  {
   "cell_type": "code",
   "execution_count": 6,
   "metadata": {},
   "outputs": [],
   "source": [
    "# create an numpy_array\n",
    "X=np.array(X)\n",
    "y=np.array(y)"
   ]
  },
  {
   "cell_type": "code",
   "execution_count": 7,
   "metadata": {},
   "outputs": [],
   "source": [
    "# rescale X\n",
    "X = X.astype(np.float32)/ 255.\n",
    "y = y.astype(np.int32)"
   ]
  },
  {
   "cell_type": "markdown",
   "metadata": {},
   "source": [
    "## Data segregation into train,validation and test sets"
   ]
  },
  {
   "cell_type": "code",
   "execution_count": 8,
   "metadata": {},
   "outputs": [],
   "source": [
    "# split into main and holdout sets\n",
    "\n",
    "#X, X_test, y, y_test = train_test_split(X,y, test_size=0.1)"
   ]
  },
  {
   "cell_type": "code",
   "execution_count": 9,
   "metadata": {},
   "outputs": [
    {
     "data": {
      "text/plain": [
       "(5656, 224, 224, 3)"
      ]
     },
     "execution_count": 9,
     "metadata": {},
     "output_type": "execute_result"
    }
   ],
   "source": [
    "X.shape"
   ]
  },
  {
   "cell_type": "code",
   "execution_count": 10,
   "metadata": {},
   "outputs": [],
   "source": [
    "from tensorflow.keras import utils\n",
    "from sklearn.model_selection import KFold,StratifiedKFold"
   ]
  },
  {
   "cell_type": "code",
   "execution_count": 18,
   "metadata": {},
   "outputs": [
    {
     "name": "stdout",
     "output_type": "stream",
     "text": [
      "Fold_1\n",
      "Epoch 1/10\n",
      "117/117 [==============================] - 92s 736ms/step - loss: 0.9896 - accuracy: 0.6430 - val_loss: 0.7001 - val_accuracy: 0.7513\n",
      "Epoch 2/10\n",
      "117/117 [==============================] - 84s 712ms/step - loss: 0.7809 - accuracy: 0.7411 - val_loss: 0.6599 - val_accuracy: 0.7731\n",
      "Epoch 3/10\n",
      "117/117 [==============================] - 84s 710ms/step - loss: 0.7381 - accuracy: 0.7531 - val_loss: 0.6503 - val_accuracy: 0.7699\n",
      "Epoch 4/10\n",
      "117/117 [==============================] - 84s 711ms/step - loss: 0.6885 - accuracy: 0.7682 - val_loss: 0.6623 - val_accuracy: 0.7773\n",
      "Epoch 5/10\n",
      "117/117 [==============================] - 82s 696ms/step - loss: 0.6703 - accuracy: 0.7748 - val_loss: 0.6330 - val_accuracy: 0.7911\n",
      "Epoch 6/10\n",
      "117/117 [==============================] - 82s 697ms/step - loss: 0.6525 - accuracy: 0.7857 - val_loss: 0.6137 - val_accuracy: 0.7953\n",
      "Epoch 7/10\n",
      "117/117 [==============================] - 81s 684ms/step - loss: 0.6274 - accuracy: 0.7942 - val_loss: 0.6091 - val_accuracy: 0.7937\n",
      "Epoch 8/10\n",
      "117/117 [==============================] - 80s 679ms/step - loss: 0.6352 - accuracy: 0.7966 - val_loss: 0.6246 - val_accuracy: 0.7969\n",
      "Epoch 9/10\n",
      "117/117 [==============================] - 80s 677ms/step - loss: 0.6360 - accuracy: 0.7830 - val_loss: 0.6305 - val_accuracy: 0.7858\n",
      "Epoch 10/10\n",
      "117/117 [==============================] - 81s 683ms/step - loss: 0.6199 - accuracy: 0.7979 - val_loss: 0.6180 - val_accuracy: 0.7847\n",
      "Fold_2\n",
      "Epoch 1/10\n",
      "117/117 [==============================] - 97s 741ms/step - loss: 1.0389 - accuracy: 0.6216 - val_loss: 0.7841 - val_accuracy: 0.7347\n",
      "Epoch 2/10\n",
      "117/117 [==============================] - 86s 730ms/step - loss: 0.8040 - accuracy: 0.7279 - val_loss: 0.6690 - val_accuracy: 0.7756\n",
      "Epoch 3/10\n",
      "117/117 [==============================] - 83s 703ms/step - loss: 0.7328 - accuracy: 0.7560 - val_loss: 0.7020 - val_accuracy: 0.7565\n",
      "Epoch 4/10\n",
      "117/117 [==============================] - 83s 702ms/step - loss: 0.7168 - accuracy: 0.7605 - val_loss: 0.6284 - val_accuracy: 0.7798\n",
      "Epoch 5/10\n",
      "117/117 [==============================] - 82s 698ms/step - loss: 0.7025 - accuracy: 0.7775 - val_loss: 0.6283 - val_accuracy: 0.7830\n",
      "Epoch 6/10\n",
      "117/117 [==============================] - 82s 698ms/step - loss: 0.6965 - accuracy: 0.7762 - val_loss: 0.6212 - val_accuracy: 0.7899\n",
      "Epoch 7/10\n",
      "117/117 [==============================] - 83s 700ms/step - loss: 0.6717 - accuracy: 0.7852 - val_loss: 0.6134 - val_accuracy: 0.7910\n",
      "Epoch 8/10\n",
      "117/117 [==============================] - 81s 690ms/step - loss: 0.6534 - accuracy: 0.7876 - val_loss: 0.6178 - val_accuracy: 0.7883\n",
      "Epoch 9/10\n",
      "117/117 [==============================] - 82s 693ms/step - loss: 0.6333 - accuracy: 0.7945 - val_loss: 0.6110 - val_accuracy: 0.7894\n",
      "Epoch 10/10\n",
      "117/117 [==============================] - 81s 684ms/step - loss: 0.6370 - accuracy: 0.7916 - val_loss: 0.6008 - val_accuracy: 0.7846\n",
      "Fold_3\n",
      "Epoch 1/10\n",
      "117/117 [==============================] - 111s 838ms/step - loss: 1.0588 - accuracy: 0.6226 - val_loss: 0.7604 - val_accuracy: 0.7411\n",
      "Epoch 2/10\n",
      "117/117 [==============================] - 85s 718ms/step - loss: 0.8211 - accuracy: 0.7173 - val_loss: 0.6713 - val_accuracy: 0.7708\n",
      "Epoch 3/10\n",
      "117/117 [==============================] - 83s 706ms/step - loss: 0.7341 - accuracy: 0.7627 - val_loss: 0.6466 - val_accuracy: 0.7841\n",
      "Epoch 4/10\n",
      "117/117 [==============================] - 83s 700ms/step - loss: 0.7060 - accuracy: 0.7685 - val_loss: 0.6260 - val_accuracy: 0.8005\n",
      "Epoch 5/10\n",
      "117/117 [==============================] - 82s 697ms/step - loss: 0.7018 - accuracy: 0.7658 - val_loss: 0.6058 - val_accuracy: 0.7905\n",
      "Epoch 6/10\n",
      "117/117 [==============================] - 82s 697ms/step - loss: 0.6811 - accuracy: 0.7794 - val_loss: 0.6511 - val_accuracy: 0.7745\n",
      "Epoch 7/10\n",
      "117/117 [==============================] - 82s 694ms/step - loss: 0.6780 - accuracy: 0.7791 - val_loss: 0.6140 - val_accuracy: 0.7920\n",
      "Epoch 8/10\n",
      "117/117 [==============================] - 82s 693ms/step - loss: 0.6508 - accuracy: 0.7900 - val_loss: 0.6662 - val_accuracy: 0.7703\n",
      "Epoch 9/10\n",
      "117/117 [==============================] - 80s 678ms/step - loss: 0.6487 - accuracy: 0.7836 - val_loss: 0.6398 - val_accuracy: 0.7804\n",
      "Epoch 10/10\n",
      "117/117 [==============================] - 80s 679ms/step - loss: 0.6358 - accuracy: 0.7961 - val_loss: 0.6243 - val_accuracy: 0.7745\n"
     ]
    }
   ],
   "source": [
    "# kfold cross validation: split data into train and validation sets, \n",
    "\n",
    "skf = StratifiedKFold(n_splits=3, random_state=42, shuffle=True)\n",
    "\n",
    "y_true, y_predicted, History = [],[],[]\n",
    "k = 0\n",
    "path = '../callbacks/'\n",
    "\n",
    "for train_index, val_index in skf.split(np.zeros(X.shape[0]), y):\n",
    "    k+=1\n",
    "    print(f'Fold_{k}')\n",
    "    #print(train_index,val_index)\n",
    "   \n",
    "    X_train = X[train_index]\n",
    "    y_train = y[train_index]\n",
    "    X_val = X[val_index]\n",
    "    y_val = y[val_index]\n",
    "\n",
    "    num_classes=5\n",
    "\n",
    "    #y_train = utils.to_categorical(y_train, num_classes)\n",
    "    #y_val = utils.to_categorical(y_val, num_classes)\n",
    "\n",
    "    datagen = ImageDataGenerator(\n",
    "                                    rotation_range = 90,\n",
    "                                    shear_range = 0.2,\n",
    "                                    zoom_range = 0.2,\n",
    "                                    horizontal_flip = True,\n",
    "                                    vertical_flip = True,\n",
    "                                    fill_mode = 'nearest'\n",
    "                                )\n",
    "\n",
    "    datagen.fit(X_train)\n",
    "    datagen.fit(X_val)\n",
    "\n",
    "\n",
    "    TFL_HUB_HANDLE = 'https://tfhub.dev/google/cropnet/feature_vector/cassava_disease_V1/1'\n",
    "\n",
    "    model = Sequential()\n",
    "    model.add(InputLayer(input_shape=(224,224,3)))\n",
    "    model.add(hub.KerasLayer(TFL_HUB_HANDLE,trainable=False))\n",
    "    model.add(Dense(64, activation='relu'))\n",
    "    model.add(Dense(64, activation='relu'))\n",
    "    model.add(Dense(32, activation='relu'))\n",
    "    model.add(Dropout(0.5))\n",
    "    model.add(Dense(5))\n",
    "\n",
    "    # model = Sequential([\n",
    "    #                     Conv2D(16, 3, padding='same', activation='relu'),\n",
    "    #                     MaxPooling2D(),\n",
    "    #                     Conv2D(32, 3, padding='same', activation='relu'),\n",
    "    #                     MaxPooling2D(),\n",
    "    #                     Conv2D(64, 3, padding='same', activation='relu'),\n",
    "    #                     MaxPooling2D(),\n",
    "    #                     Flatten(),\n",
    "    #                     Dense(128, activation='relu'),\n",
    "    #                     Dense(5)\n",
    "    #                     ])\n",
    "\n",
    "    model.compile(optimizer=Adam(),\n",
    "                    loss=tf.keras.losses.SparseCategoricalCrossentropy(from_logits=True),\n",
    "                    metrics=['accuracy'])\n",
    "\n",
    "    # fits the model on batches with real-time data augmentation:\n",
    "    history = model.fit(datagen.flow(X_train, y_train, batch_size=32),\n",
    "                validation_data=datagen.flow(X_val, y_val, batch_size=32),\n",
    "                steps_per_epoch=len(X_train) / 32, epochs=10)\n",
    "\n",
    "    # history = model.fit_generator(datagen.flow(X_train, y_train, batch_size=32),\n",
    "    #                     steps_per_epoch=len(X_train) / 32, epochs=1)\n",
    "\n",
    "    H = history.history\n",
    "    json.dump(H, open(path + f'H_idg_{k}.json', 'w'))\n",
    "\n",
    "    History.append(history.history)\n",
    "\n",
    "    probabilities = model.predict_generator(X_val)\n",
    "    prediction = np.argmax(probabilities, axis=1)\n",
    "    y_predicted.append(prediction)\n",
    "    y_true.append(y_val)  "
   ]
  },
  {
   "cell_type": "code",
   "execution_count": 12,
   "metadata": {},
   "outputs": [
    {
     "name": "stderr",
     "output_type": "stream",
     "text": [
      "2021-12-14 23:38:07.433671: W tensorflow/python/util/util.cc:368] Sets are not currently considered sequences, but this may change in the future, so consider avoiding using them.\n"
     ]
    },
    {
     "name": "stdout",
     "output_type": "stream",
     "text": [
      "INFO:tensorflow:Assets written to: /Users/paulosgidyelew/Desktop/Cassava_Disease_Classifier/cassava-classification-capstone/saved_model/model_01/assets\n"
     ]
    },
    {
     "name": "stderr",
     "output_type": "stream",
     "text": [
      "INFO:tensorflow:Assets written to: /Users/paulosgidyelew/Desktop/Cassava_Disease_Classifier/cassava-classification-capstone/saved_model/model_01/assets\n"
     ]
    }
   ],
   "source": [
    "model.save('../saved_model/model_01')"
   ]
  },
  {
   "cell_type": "markdown",
   "metadata": {},
   "source": [
    "## Final scores after k-fold cv"
   ]
  },
  {
   "cell_type": "code",
   "execution_count": 13,
   "metadata": {},
   "outputs": [
    {
     "name": "stdout",
     "output_type": "stream",
     "text": [
      "data type: <class 'list'>\n",
      "list: [array([0, 4, 1, ..., 4, 4, 2]), array([1, 2, 0, ..., 4, 1, 1]), array([3, 1, 1, ..., 1, 1, 1])]\n"
     ]
    }
   ],
   "source": [
    "print(f'data type: {type(y_predicted)}\\nlist: {y_predicted}')"
   ]
  },
  {
   "cell_type": "code",
   "execution_count": 14,
   "metadata": {},
   "outputs": [
    {
     "name": "stdout",
     "output_type": "stream",
     "text": [
      "data type: <class 'list'>\n",
      "list: [array([0, 0, 0, ..., 4, 4, 4], dtype=int32), array([0, 0, 0, ..., 4, 4, 4], dtype=int32), array([0, 0, 0, ..., 4, 4, 4], dtype=int32)]\n"
     ]
    }
   ],
   "source": [
    "print(f'data type: {type(y_true)}\\nlist: {y_true}')"
   ]
  },
  {
   "cell_type": "code",
   "execution_count": 15,
   "metadata": {},
   "outputs": [
    {
     "name": "stdout",
     "output_type": "stream",
     "text": [
      "data type: <class 'numpy.ndarray'>\n",
      "list: [0 0 0 ... 4 4 4]\n"
     ]
    }
   ],
   "source": [
    "print(f'data type: {type(y_val)}\\nlist: {y_val}')"
   ]
  },
  {
   "cell_type": "code",
   "execution_count": 19,
   "metadata": {},
   "outputs": [
    {
     "name": "stdout",
     "output_type": "stream",
     "text": [
      "Final scores: accuracy = 0.79 and F2_score = 0.71\n"
     ]
    }
   ],
   "source": [
    "# create ndarray from the lists and pass them into the sklearn scores\n",
    "\n",
    "y_val = np.concatenate(y_true).astype(np.int32)\n",
    "y_pred = np.concatenate(y_predicted).astype(np.int32)\n",
    "accuracy = accuracy_score(y_val, y_pred)\n",
    "f2_score = fbeta_score(y_val, y_pred, beta=2, average='macro')\n",
    "print(f'Final scores: accuracy = {accuracy.round(2)} and F2_score = {f2_score.round(2)}') "
   ]
  },
  {
   "cell_type": "code",
   "execution_count": 20,
   "metadata": {},
   "outputs": [
    {
     "data": {
      "image/png": "[encoded data removed]",
      "text/plain": [
       "<Figure size 432x288 with 1 Axes>"
      ]
     },
     "metadata": {
      "needs_background": "light"
     },
     "output_type": "display_data"
    }
   ],
   "source": [
    "# plot scores\n",
    "\n",
    "plt.plot(History[0]['accuracy'])\n",
    "plt.plot(History[0]['val_accuracy'])\n",
    "plt.title('model accuracy')\n",
    "plt.ylabel('accuracy')\n",
    "plt.xlabel('epoch')\n",
    "plt.legend(['training', 'validation'], loc='lower right')\n",
    "plt.show()"
   ]
  },
  {
   "cell_type": "markdown",
   "metadata": {},
   "source": [
    "# Prediction on the test set"
   ]
  },
  {
   "cell_type": "code",
   "execution_count": 45,
   "metadata": {},
   "outputs": [
    {
     "name": "stdout",
     "output_type": "stream",
     "text": [
      "Final scores: accuracy = 0.33 and F2_score = 0.17\n"
     ]
    }
   ],
   "source": [
    "# make predictions on the test set and check the scores\n",
    "\n",
    "y_test_prob = model.predict(X_test)\n",
    "y_test_pred = np.argmax(y_test_prob,axis=1)\n",
    "accuracy = accuracy_score(y_test, y_test_pred)\n",
    "f2_score = fbeta_score(y_test, y_test_pred, beta=2, average='macro')\n",
    "print(f'Final scores: accuracy = {accuracy.round(2)} and F2_score = {f2_score.round(2)}') "
   ]
  },
  {
   "cell_type": "code",
   "execution_count": 55,
   "metadata": {},
   "outputs": [
    {
     "name": "stdout",
     "output_type": "stream",
     "text": [
      "data type: <class 'numpy.ndarray'>\n",
      "shape: (566, 224, 224, 3)\n"
     ]
    }
   ],
   "source": [
    "print(f'data type: {type(X_test)}\\nshape: {X_test.shape}')"
   ]
  },
  {
   "cell_type": "code",
   "execution_count": 54,
   "metadata": {},
   "outputs": [
    {
     "name": "stdout",
     "output_type": "stream",
     "text": [
      "data type: <class 'numpy.ndarray'>\n",
      "shape: (566,)\n"
     ]
    }
   ],
   "source": [
    "print(f'data type: {type(y_test)}\\nshape: {y_test.shape}')"
   ]
  },
  {
   "cell_type": "code",
   "execution_count": 48,
   "metadata": {},
   "outputs": [
    {
     "name": "stdout",
     "output_type": "stream",
     "text": [
      "18/18 [==============================] - 2s 120ms/step - loss: 1.5244 - accuracy: 0.3286\n",
      "loss: 1.52 and accuracy: 0.33\n"
     ]
    }
   ],
   "source": [
    "y_test=y_test.ravel()\n",
    "loss, acc = model.evaluate(X_test, y_test, batch_size=32)\n",
    "print(f'loss: {round(loss,2)} and accuracy: {round(acc,2)}')"
   ]
  }
 ],
 "metadata": {
  "interpreter": {
   "hash": "f9f26546e49c7399860be80031a0c20e64d140a50285ea1c22f264eec86c8e93"
  },
  "kernelspec": {
   "display_name": "Python 3.9.4 64-bit ('.venv': venv)",
   "language": "python",
   "name": "python3"
  },
  "language_info": {
   "codemirror_mode": {
    "name": "ipython",
    "version": 3
   },
   "file_extension": ".py",
   "mimetype": "text/x-python",
   "name": "python",
   "nbconvert_exporter": "python",
   "pygments_lexer": "ipython3",
   "version": "3.9.4"
  },
  "orig_nbformat": 4
 },
 "nbformat": 4,
 "nbformat_minor": 2
}
